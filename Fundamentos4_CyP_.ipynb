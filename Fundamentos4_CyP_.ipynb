{
  "nbformat": 4,
  "nbformat_minor": 0,
  "metadata": {
    "colab": {
      "name": "Fundamentos4_CyP_.ipynb",
      "provenance": [],
      "authorship_tag": "ABX9TyMN8mJLtPCQZd3QMMPPNcvd",
      "include_colab_link": true
    },
    "kernelspec": {
      "name": "python3",
      "display_name": "Python 3"
    },
    "language_info": {
      "name": "python"
    }
  },
  "cells": [
    {
      "cell_type": "markdown",
      "metadata": {
        "id": "view-in-github",
        "colab_type": "text"
      },
      "source": [
        "<a href=\"https://colab.research.google.com/github/Chucho98/CompYProg2022g1157/blob/main/Fundamentos4_CyP_.ipynb\" target=\"_parent\"><img src=\"https://colab.research.google.com/assets/colab-badge.svg\" alt=\"Open In Colab\"/></a>"
      ]
    },
    {
      "cell_type": "markdown",
      "metadata": {
        "id": "iEelM6JsUXb4"
      },
      "source": [
        "#Modularidad (Funciones)\n",
        "\n",
        "Una función es una unidad de código reutilizable, además de ser un mecanismo para organizar código.\n",
        "\n",
        "La gran ventaja de emplear funciones es simplificar la programación.\n",
        "\n",
        "###Estructura\n",
        "Una función puede tomar cualquier cantidad de parametros de entrada (de cualquier tipo) y retornar unicamente un solo valor.\n",
        "Un parámetro de entrada es un valor que recibe la función para realizar sus operaciones.\n",
        "\n",
        "Con una función se pueden hacer 2 cosas:\n",
        "1. Definirla\n",
        "2. Invocarla (ejecutarla)\n",
        "\n",
        "La gran ventaja de tener una función declarada es que la podemos reutilizar cuando se desee."
      ]
    },
    {
      "cell_type": "code",
      "metadata": {
        "id": "NePnCbo1USto"
      },
      "source": [
        "def sumar(op1,op2):\n",
        "    res=op1+op2\n",
        "    return res\n"
      ],
      "execution_count": 1,
      "outputs": []
    },
    {
      "cell_type": "code",
      "metadata": {
        "colab": {
          "base_uri": "https://localhost:8080/"
        },
        "id": "RSKx12dKYGeT",
        "outputId": "df7b1926-ef0d-4bc9-ad59-53d721311378"
      },
      "source": [
        "res=sumar(2,5)\n",
        "print(res)"
      ],
      "execution_count": 3,
      "outputs": [
        {
          "output_type": "stream",
          "name": "stdout",
          "text": [
            "7\n"
          ]
        }
      ]
    },
    {
      "cell_type": "code",
      "metadata": {
        "colab": {
          "base_uri": "https://localhost:8080/"
        },
        "id": "IhnkKwyjcfKq",
        "outputId": "2ac0da4c-b020-46cc-b299-c050a0f729b5"
      },
      "source": [
        "print(\"hola\",\"Jesus\",sep=\"-\")"
      ],
      "execution_count": 7,
      "outputs": [
        {
          "output_type": "stream",
          "name": "stdout",
          "text": [
            "hola-Jesus\n"
          ]
        }
      ]
    },
    {
      "cell_type": "code",
      "metadata": {
        "colab": {
          "base_uri": "https://localhost:8080/"
        },
        "id": "SgFC3RVaa6G7",
        "outputId": "d569a59d-9ffc-49bc-ef53-76d255f6c5a5"
      },
      "source": [
        "def imprime_cuadro():\n",
        "    print(\"****\")\n",
        "    print(\"****\")\n",
        "    print(\"****\")\n",
        "    print(\"****\")\n",
        "    #return None\n",
        "imprime_cuadro()"
      ],
      "execution_count": 5,
      "outputs": [
        {
          "output_type": "stream",
          "name": "stdout",
          "text": [
            "****\n",
            "****\n",
            "****\n",
            "****\n"
          ]
        }
      ]
    },
    {
      "cell_type": "markdown",
      "metadata": {
        "id": "HQVJklqWbEH8"
      },
      "source": [
        "#valor de retorno de una función\n",
        "\n",
        "Regla de oro.- Una función retorna UN SOLO VALOR. Inlcusive si ese valor es el vacío."
      ]
    },
    {
      "cell_type": "code",
      "metadata": {
        "colab": {
          "base_uri": "https://localhost:8080/"
        },
        "id": "RY3-89BbbQha",
        "outputId": "e2e5f8a2-424c-4777-9ef8-e8a7864884cb"
      },
      "source": [
        "#Invocar sumar\n",
        "res=sumar(7,8)\n",
        "print(res)\n",
        "#Invocar la función pintar cuadro\n",
        "res=imprime_cuadro()\n",
        "print(res)"
      ],
      "execution_count": 6,
      "outputs": [
        {
          "output_type": "stream",
          "name": "stdout",
          "text": [
            "15\n",
            "****\n",
            "****\n",
            "****\n",
            "****\n",
            "None\n"
          ]
        }
      ]
    },
    {
      "cell_type": "markdown",
      "metadata": {
        "id": "Pomb61EZddzU"
      },
      "source": [
        "# La palabra reservada None de python\n",
        "Esta palabra reservada significa vacío, equivalente a la palabra reservada void del lenguaje C, C++ y Java.\n",
        "\n",
        "Se usa para indicar ya sea un return vacio o que se recive un parametro vacio."
      ]
    },
    {
      "cell_type": "code",
      "metadata": {
        "id": "GsTBtLv3d8D_"
      },
      "source": [
        "def multiplicar(valor,veces):\n",
        "    c=valor*veces\n",
        "    return c"
      ],
      "execution_count": 8,
      "outputs": []
    },
    {
      "cell_type": "code",
      "metadata": {
        "colab": {
          "base_uri": "https://localhost:8080/"
        },
        "id": "5z255JcWeM1K",
        "outputId": "a3fe3375-707d-4566-f2bc-0b4ce7c20ced"
      },
      "source": [
        "res=multiplicar(5,5)\n",
        "print(res)"
      ],
      "execution_count": 9,
      "outputs": [
        {
          "output_type": "stream",
          "name": "stdout",
          "text": [
            "25\n"
          ]
        }
      ]
    },
    {
      "cell_type": "code",
      "metadata": {
        "id": "1g1a2BOPerdI"
      },
      "source": [
        "def multiplicar(valor,veces):\n",
        "    if valor==None:\n",
        "        c=-1\n",
        "    else:\n",
        "        c=valor*veces\n",
        "    return c"
      ],
      "execution_count": 10,
      "outputs": []
    },
    {
      "cell_type": "code",
      "metadata": {
        "colab": {
          "base_uri": "https://localhost:8080/"
        },
        "id": "Q3clgBeke_a5",
        "outputId": "4f0e5f01-c5f6-43f3-c935-18b7d30f1f78"
      },
      "source": [
        "res=multiplicar(None,5)\n",
        "print(res)"
      ],
      "execution_count": 12,
      "outputs": [
        {
          "output_type": "stream",
          "name": "stdout",
          "text": [
            "-1\n"
          ]
        }
      ]
    },
    {
      "cell_type": "markdown",
      "metadata": {
        "id": "Q8RHEgvWfhVD"
      },
      "source": [
        "#Parámetros y argumentos.\n",
        "Son conceptos relacionados y su diferencia esta centrada en el moento que se emplea en una función \n",
        "\n",
        "Es decir en la función sumar de arriba, cuando se declara se le llama parámetro y cuando se invoca sele llama argumento."
      ]
    },
    {
      "cell_type": "markdown",
      "metadata": {
        "id": "K52mqXW-fYw6"
      },
      "source": [
        "#Parámetros posicionale\n",
        "En python es posible determinar a que parámetros están dirigidos los argumentos, según su posición."
      ]
    },
    {
      "cell_type": "code",
      "metadata": {
        "id": "N8OWuB4pgoy-"
      },
      "source": [
        "def dividir(op1,op2):\n",
        "    c=op1/op2\n",
        "    return c"
      ],
      "execution_count": 14,
      "outputs": []
    },
    {
      "cell_type": "markdown",
      "metadata": {
        "id": "zIe7MNQ1h6b1"
      },
      "source": [
        "#Argumentos con palabras clave (keyboards)\n",
        "Es la posibilidad de indicarle a la función en tiempo de ejecución a que parámetro va dirigido un argumento de entrada.\n",
        "\n",
        "Solo disponible en Python"
      ]
    },
    {
      "cell_type": "code",
      "metadata": {
        "id": "33ksgSz5hxzh"
      },
      "source": [
        "res=dividir(op2=num2,op1=num1)\n",
        "print(res)"
      ],
      "execution_count": null,
      "outputs": []
    }
  ]
}