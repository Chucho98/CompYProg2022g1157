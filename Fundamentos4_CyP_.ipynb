{
  "nbformat": 4,
  "nbformat_minor": 0,
  "metadata": {
    "colab": {
      "name": "Fundamentos4_CyP_.ipynb",
      "provenance": [],
      "collapsed_sections": [],
      "authorship_tag": "ABX9TyO8OKKSEzXZgZgGEGpa5iM8",
      "include_colab_link": true
    },
    "kernelspec": {
      "name": "python3",
      "display_name": "Python 3"
    },
    "language_info": {
      "name": "python"
    }
  },
  "cells": [
    {
      "cell_type": "markdown",
      "metadata": {
        "id": "view-in-github",
        "colab_type": "text"
      },
      "source": [
        "<a href=\"https://colab.research.google.com/github/Chucho98/CompYProg2022g1157/blob/main/Fundamentos4_CyP_.ipynb\" target=\"_parent\"><img src=\"https://colab.research.google.com/assets/colab-badge.svg\" alt=\"Open In Colab\"/></a>"
      ]
    },
    {
      "cell_type": "markdown",
      "metadata": {
        "id": "iEelM6JsUXb4"
      },
      "source": [
        "#Modularidad (Funciones)\n",
        "\n",
        "Una función es una unidad de código reutilizable, además de ser un mecanismo para organizar código.\n",
        "\n",
        "La gran ventaja de emplear funciones es simplificar la programación.\n",
        "\n",
        "###Estructura\n",
        "Una función puede tomar cualquier cantidad de parametros de entrada (de cualquier tipo) y retornar unicamente un solo valor.\n",
        "Un parámetro de entrada es un valor que recibe la función para realizar sus operaciones.\n",
        "\n",
        "Con una función se pueden hacer 2 cosas:\n",
        "1. Definirla\n",
        "2. Invocarla (ejecutarla)\n",
        "\n",
        "La gran ventaja de tener una función declarada es que la podemos reutilizar cuando se desee."
      ]
    },
    {
      "cell_type": "code",
      "metadata": {
        "id": "NePnCbo1USto"
      },
      "source": [
        "def sumar(op1,op2):\n",
        "    res=op1+op2\n",
        "    return res\n"
      ],
      "execution_count": null,
      "outputs": []
    },
    {
      "cell_type": "code",
      "metadata": {
        "colab": {
          "base_uri": "https://localhost:8080/"
        },
        "id": "RSKx12dKYGeT",
        "outputId": "df7b1926-ef0d-4bc9-ad59-53d721311378"
      },
      "source": [
        "res=sumar(2,5)\n",
        "print(res)"
      ],
      "execution_count": null,
      "outputs": [
        {
          "output_type": "stream",
          "name": "stdout",
          "text": [
            "7\n"
          ]
        }
      ]
    },
    {
      "cell_type": "code",
      "metadata": {
        "colab": {
          "base_uri": "https://localhost:8080/"
        },
        "id": "IhnkKwyjcfKq",
        "outputId": "2ac0da4c-b020-46cc-b299-c050a0f729b5"
      },
      "source": [
        "print(\"hola\",\"Jesus\",sep=\"-\")"
      ],
      "execution_count": null,
      "outputs": [
        {
          "output_type": "stream",
          "name": "stdout",
          "text": [
            "hola-Jesus\n"
          ]
        }
      ]
    },
    {
      "cell_type": "code",
      "metadata": {
        "colab": {
          "base_uri": "https://localhost:8080/"
        },
        "id": "SgFC3RVaa6G7",
        "outputId": "d569a59d-9ffc-49bc-ef53-76d255f6c5a5"
      },
      "source": [
        "def imprime_cuadro():\n",
        "    print(\"****\")\n",
        "    print(\"****\")\n",
        "    print(\"****\")\n",
        "    print(\"****\")\n",
        "    #return None\n",
        "imprime_cuadro()"
      ],
      "execution_count": null,
      "outputs": [
        {
          "output_type": "stream",
          "name": "stdout",
          "text": [
            "****\n",
            "****\n",
            "****\n",
            "****\n"
          ]
        }
      ]
    },
    {
      "cell_type": "markdown",
      "metadata": {
        "id": "HQVJklqWbEH8"
      },
      "source": [
        "#valor de retorno de una función\n",
        "\n",
        "Regla de oro.- Una función retorna UN SOLO VALOR. Inlcusive si ese valor es el vacío."
      ]
    },
    {
      "cell_type": "code",
      "metadata": {
        "colab": {
          "base_uri": "https://localhost:8080/"
        },
        "id": "RY3-89BbbQha",
        "outputId": "e2e5f8a2-424c-4777-9ef8-e8a7864884cb"
      },
      "source": [
        "#Invocar sumar\n",
        "res=sumar(7,8)\n",
        "print(res)\n",
        "#Invocar la función pintar cuadro\n",
        "res=imprime_cuadro()\n",
        "print(res)"
      ],
      "execution_count": null,
      "outputs": [
        {
          "output_type": "stream",
          "name": "stdout",
          "text": [
            "15\n",
            "****\n",
            "****\n",
            "****\n",
            "****\n",
            "None\n"
          ]
        }
      ]
    },
    {
      "cell_type": "markdown",
      "metadata": {
        "id": "Pomb61EZddzU"
      },
      "source": [
        "# La palabra reservada None de python\n",
        "Esta palabra reservada significa vacío, equivalente a la palabra reservada void del lenguaje C, C++ y Java.\n",
        "\n",
        "Se usa para indicar ya sea un return vacio o que se recive un parametro vacio."
      ]
    },
    {
      "cell_type": "code",
      "metadata": {
        "id": "GsTBtLv3d8D_"
      },
      "source": [
        "def multiplicar(valor,veces):\n",
        "    c=valor*veces\n",
        "    return c"
      ],
      "execution_count": null,
      "outputs": []
    },
    {
      "cell_type": "code",
      "metadata": {
        "colab": {
          "base_uri": "https://localhost:8080/"
        },
        "id": "5z255JcWeM1K",
        "outputId": "a3fe3375-707d-4566-f2bc-0b4ce7c20ced"
      },
      "source": [
        "res=multiplicar(5,5)\n",
        "print(res)"
      ],
      "execution_count": null,
      "outputs": [
        {
          "output_type": "stream",
          "name": "stdout",
          "text": [
            "25\n"
          ]
        }
      ]
    },
    {
      "cell_type": "code",
      "metadata": {
        "id": "1g1a2BOPerdI"
      },
      "source": [
        "def multiplicar(valor,veces):\n",
        "    if valor==None:\n",
        "        c=-1\n",
        "    else:\n",
        "        c=valor*veces\n",
        "    return c"
      ],
      "execution_count": null,
      "outputs": []
    },
    {
      "cell_type": "code",
      "metadata": {
        "colab": {
          "base_uri": "https://localhost:8080/"
        },
        "id": "Q3clgBeke_a5",
        "outputId": "4f0e5f01-c5f6-43f3-c935-18b7d30f1f78"
      },
      "source": [
        "res=multiplicar(None,5)\n",
        "print(res)"
      ],
      "execution_count": null,
      "outputs": [
        {
          "output_type": "stream",
          "name": "stdout",
          "text": [
            "-1\n"
          ]
        }
      ]
    },
    {
      "cell_type": "markdown",
      "metadata": {
        "id": "Q8RHEgvWfhVD"
      },
      "source": [
        "#Parámetros y argumentos.\n",
        "Son conceptos relacionados y su diferencia esta centrada en el moento que se emplea en una función \n",
        "\n",
        "Es decir en la función sumar de arriba, cuando se declara se le llama parámetro y cuando se invoca sele llama argumento."
      ]
    },
    {
      "cell_type": "markdown",
      "metadata": {
        "id": "K52mqXW-fYw6"
      },
      "source": [
        "#Parámetros posicionale\n",
        "En python es posible determinar a que parámetros están dirigidos los argumentos, según su posición."
      ]
    },
    {
      "cell_type": "code",
      "metadata": {
        "id": "N8OWuB4pgoy-"
      },
      "source": [
        "def dividir(op1,op2):\n",
        "    c=op1/op2\n",
        "    return c"
      ],
      "execution_count": null,
      "outputs": []
    },
    {
      "cell_type": "markdown",
      "metadata": {
        "id": "zIe7MNQ1h6b1"
      },
      "source": [
        "#Argumentos con palabras clave (keyboards)\n",
        "Es la posibilidad de indicarle a la función en tiempo de ejecución a que parámetro va dirigido un argumento de entrada.\n",
        "\n",
        "Solo disponible en Python"
      ]
    },
    {
      "cell_type": "code",
      "metadata": {
        "id": "33ksgSz5hxzh"
      },
      "source": [
        "res=dividir(op2=num2,op1=num1)\n",
        "print(res)"
      ],
      "execution_count": null,
      "outputs": []
    },
    {
      "cell_type": "code",
      "source": [
        "def letra_J(caracter):\n",
        "    print(f\". {caracter}\")\n",
        "    print(f\". {caracter}\")\n",
        "    print(f\". {caracter}\")\n",
        "    print(f\". {caracter}\")\n",
        "    print(f\". {caracter}\")"
      ],
      "metadata": {
        "id": "j0X_hSlW9cl1"
      },
      "execution_count": null,
      "outputs": []
    },
    {
      "cell_type": "markdown",
      "source": [
        "#7 de Diciembre 2021"
      ],
      "metadata": {
        "id": "2bsa03utVhot"
      }
    },
    {
      "cell_type": "markdown",
      "source": [
        "#Argumento por defecto\n",
        "\n",
        "Es la capacidad de las funciones de establecer un valor de defecto. (Default)\n",
        "\n",
        "Si no se envía un argumento a dicho parámetro, entonces se asigna el que el programa asigno como default "
      ],
      "metadata": {
        "id": "N3y6Jo6V-PDw"
      }
    },
    {
      "cell_type": "code",
      "source": [
        "def dividir(op1,op2=2):\n",
        "    c=op1/op2\n",
        "    return c\n",
        "\n",
        "print(dividir(25))"
      ],
      "metadata": {
        "colab": {
          "base_uri": "https://localhost:8080/"
        },
        "id": "WdlfSF-d-ilU",
        "outputId": "5e8a1b24-1a25-4d05-836b-e5b968ec6ebd"
      },
      "execution_count": 3,
      "outputs": [
        {
          "output_type": "stream",
          "name": "stdout",
          "text": [
            "12.5\n"
          ]
        }
      ]
    },
    {
      "cell_type": "markdown",
      "source": [
        "Este concepto se puede ejemplificar con la función **print**"
      ],
      "metadata": {
        "id": "qBrHaN35_MNJ"
      }
    },
    {
      "cell_type": "code",
      "source": [
        "help(print)"
      ],
      "metadata": {
        "colab": {
          "base_uri": "https://localhost:8080/"
        },
        "id": "rtrW66FW_Q-g",
        "outputId": "37e38737-1c3c-4d83-b7ec-bb0b6b7d86ad"
      },
      "execution_count": 4,
      "outputs": [
        {
          "output_type": "stream",
          "name": "stdout",
          "text": [
            "Help on built-in function print in module builtins:\n",
            "\n",
            "print(...)\n",
            "    print(value, ..., sep=' ', end='\\n', file=sys.stdout, flush=False)\n",
            "    \n",
            "    Prints the values to a stream, or to sys.stdout by default.\n",
            "    Optional keyword arguments:\n",
            "    file:  a file-like object (stream); defaults to the current sys.stdout.\n",
            "    sep:   string inserted between values, default a space.\n",
            "    end:   string appended after the last value, default a newline.\n",
            "    flush: whether to forcibly flush the stream.\n",
            "\n"
          ]
        }
      ]
    },
    {
      "cell_type": "code",
      "source": [
        "nombre=\"José\"\n",
        "edad=18\n",
        "print(nombre,edad, sep=\"+-+-+-+-+-+-+-+\")\n",
        "print(\"Hola\", end=\" \")\n",
        "print(\"------\")"
      ],
      "metadata": {
        "colab": {
          "base_uri": "https://localhost:8080/"
        },
        "id": "KjbtZ-Ib_tLR",
        "outputId": "e7160ab7-a7c4-406a-e504-b679e43ab75f"
      },
      "execution_count": 7,
      "outputs": [
        {
          "output_type": "stream",
          "name": "stdout",
          "text": [
            "José+-+-+-+-+-+-+-+18\n",
            "Hola ------\n"
          ]
        }
      ]
    },
    {
      "cell_type": "markdown",
      "source": [
        "#Ejercicio de argumentos posicionales"
      ],
      "metadata": {
        "id": "rumFCUQRAzqj"
      }
    },
    {
      "cell_type": "code",
      "source": [
        "def comanda(comensal=1,primer=\"Consome\",segundo=\"Arooz rojo\",tercero=\"Enchiladas\"):\n",
        "    print(f\"El comensal {comensal} quiere: \")\n",
        "    print(\"\\t Entrada: \",primer)\n",
        "    print(\"\\t Medio: \",segundo)\n",
        "    print(\"\\t Plato Fuerte: \",tercero)\n",
        "\n",
        "comanda()\n",
        "\n",
        "comanda(3, \"Ensalada\",\"Arroz blanco\",\"Esparragos al horno\")\n",
        "comanda(\"Arroz blanco\",\"Esparragos al horno\",\"Ensalada\",3)\n",
        "comanda(segundo=\"Arroz blanco\",tercero=\"Esparragos al horno\",primer=\"Ensalada\",comensal=3)"
      ],
      "metadata": {
        "colab": {
          "base_uri": "https://localhost:8080/"
        },
        "id": "TkjhkAs1A46A",
        "outputId": "ebfd0365-bc2b-4927-ed7f-08fd20dc16b6"
      },
      "execution_count": 14,
      "outputs": [
        {
          "output_type": "stream",
          "name": "stdout",
          "text": [
            "El comensal 1 quiere: \n",
            "\t Entrada:  Consome\n",
            "\t Medio:  Arooz rojo\n",
            "\t Plato Fuerte:  Enchiladas\n",
            "El comensal 3 quiere: \n",
            "\t Entrada:  Ensalada\n",
            "\t Medio:  Arroz blanco\n",
            "\t Plato Fuerte:  Esparragos al horno\n",
            "El comensal Arroz blanco quiere: \n",
            "\t Entrada:  Esparragos al horno\n",
            "\t Medio:  Ensalada\n",
            "\t Plato Fuerte:  3\n",
            "El comensal 3 quiere: \n",
            "\t Entrada:  Ensalada\n",
            "\t Medio:  Arroz blanco\n",
            "\t Plato Fuerte:  Esparragos al horno\n"
          ]
        }
      ]
    },
    {
      "cell_type": "markdown",
      "source": [
        "#Argumentos enviados en grupo en una tupla.\n",
        "Esto sirve para enviar multiples argumentos a una función empleando el comodin *.\n",
        "\n",
        "```\n",
        "def mifun(args*):\n",
        "    <cuerpo de la funcion>\n",
        "```\n",
        "\n"
      ],
      "metadata": {
        "id": "nk5_R5hUDjWi"
      }
    },
    {
      "cell_type": "code",
      "source": [
        "def comanda2(*opciones):\n",
        "    print(f\"El comensal: {opciones[0]} pidio: \")\n",
        "    print(\"\\tEntrada: \",opciones[1])\n",
        "    print(\"\\tSegundo: \",opciones[2])\n",
        "    print(\"\\tPlato fuerte: \",opciones[3])\n",
        "    print(\"\\indicaciones extra: \")\n",
        "    for instruccion in opciones[4::]:\n",
        "        print(\"\\n\",instruccion)\n",
        "\n",
        "comanda2(1,\"Sopa de fideo\",\"Arroz\",\"Arrachera\",\"La arrachera que aún se mueva\",\"Postre de gelatina\")"
      ],
      "metadata": {
        "colab": {
          "base_uri": "https://localhost:8080/"
        },
        "id": "qTVd9iA9ENks",
        "outputId": "741e4299-d77c-46c2-d366-bbcd7b2826b0"
      },
      "execution_count": 18,
      "outputs": [
        {
          "output_type": "stream",
          "name": "stdout",
          "text": [
            "El comensal: 1 pidio: \n",
            "\tEntrada:  Sopa de fideo\n",
            "\tSegundo:  Arroz\n",
            "\tPlato fuerte:  Arrachera\n",
            "\\indicaciones extra: \n",
            "\n",
            " La arrachera que aún se mueva\n",
            "\n",
            " Postre de gelatina\n"
          ]
        }
      ]
    },
    {
      "cell_type": "markdown",
      "source": [
        "#Argumentos enviados en grupo en un diccionario.\n",
        "Es el mismo concepto que el anterior pero se usa el comodin ** y se mapea a un diccionario."
      ],
      "metadata": {
        "id": "9YlVUw9dG3al"
      }
    },
    {
      "cell_type": "code",
      "source": [
        "def comanda3(**opciones):\n",
        "    ops=opciones.keys()\n",
        "    print(ops)\n",
        "    for key in ops:\n",
        "        print(f\"{key}={opciones[key]}\")\n",
        "    \n",
        "\n",
        "\n",
        "\n",
        "comanda3(segundo=\"arroz blanco\",tercero=\"Esparragos al horno\",primer=\"Ensalada\",comensal=3)"
      ],
      "metadata": {
        "colab": {
          "base_uri": "https://localhost:8080/"
        },
        "id": "iQ6BtWz-HBQl",
        "outputId": "574870ab-30af-4c11-a1cb-4a8c9ac8a366"
      },
      "execution_count": 22,
      "outputs": [
        {
          "output_type": "stream",
          "name": "stdout",
          "text": [
            "dict_keys(['segundo', 'tercero', 'primer', 'comensal'])\n",
            "segundo=arroz blanco\n",
            "tercero=Esparragos al horno\n",
            "primer=Ensalada\n",
            "comensal=3\n"
          ]
        }
      ]
    },
    {
      "cell_type": "markdown",
      "source": [
        "#Modularidad y biblioteca.\n",
        "Todos los lenguajes de programación tienen la capacidad \n",
        "de compartir código entre la comunidad de programadores.\n",
        "\n",
        "Para ello cada lenguaje establece un mecanismo para escribir y compartir biblioteca."
      ],
      "metadata": {
        "id": "QCaFJTopJkxq"
      }
    },
    {
      "cell_type": "code",
      "source": [
        "!pip install simple_chalk"
      ],
      "metadata": {
        "colab": {
          "base_uri": "https://localhost:8080/"
        },
        "id": "1Rn_x6gLKujc",
        "outputId": "32de27ad-4430-43b7-a031-2d6e8bd1bb6c"
      },
      "execution_count": 23,
      "outputs": [
        {
          "output_type": "stream",
          "name": "stdout",
          "text": [
            "Collecting simple_chalk\n",
            "  Downloading simple_chalk-0.1.0.tar.gz (13 kB)\n",
            "Building wheels for collected packages: simple-chalk\n",
            "  Building wheel for simple-chalk (setup.py) ... \u001b[?25l\u001b[?25hdone\n",
            "  Created wheel for simple-chalk: filename=simple_chalk-0.1.0-py3-none-any.whl size=22163 sha256=3cd113ad62a7dd93f5912bdd6ff08edfcf9f59067b9aaaed8d0b148d624eb7a4\n",
            "  Stored in directory: /root/.cache/pip/wheels/24/e2/84/d54838032016039eef79df1137b91defaa6db068d825dfcdcd\n",
            "Successfully built simple-chalk\n",
            "Installing collected packages: simple-chalk\n",
            "Successfully installed simple-chalk-0.1.0\n"
          ]
        }
      ]
    },
    {
      "cell_type": "code",
      "source": [
        "from simple_chalk import chalk, yellow\n",
        "print(chalk.yellow(\"Hola en color amarillo\"))"
      ],
      "metadata": {
        "colab": {
          "base_uri": "https://localhost:8080/"
        },
        "id": "3FnPv9QLM0Fq",
        "outputId": "3da01bb9-64bb-4ce4-b349-5bcbf6805199"
      },
      "execution_count": 27,
      "outputs": [
        {
          "output_type": "stream",
          "name": "stdout",
          "text": [
            "\u001b[33mHola en color amarillo\u001b[0m\n"
          ]
        }
      ]
    },
    {
      "cell_type": "markdown",
      "source": [
        "#¿Como escribo un módulo (biblioteca)?\n",
        "Se define como en un archivo de biblioteca"
      ],
      "metadata": {
        "id": "AsGuN4nGPPaC"
      }
    },
    {
      "cell_type": "code",
      "source": [
        "!cat mi_modulo.py"
      ],
      "metadata": {
        "colab": {
          "base_uri": "https://localhost:8080/"
        },
        "id": "icNcfPt3PWXy",
        "outputId": "80b4eff6-80e1-437a-de38-270bcfd90230"
      },
      "execution_count": 28,
      "outputs": [
        {
          "output_type": "stream",
          "name": "stdout",
          "text": [
            "def sumar(a,b):\n",
            "    return a+b\n",
            "\n",
            "def mi_print(texto,final):\n",
            "    print(\"Super: \",text ,end=final)\n",
            "\n",
            "    "
          ]
        }
      ]
    },
    {
      "cell_type": "code",
      "source": [
        "import mi_modulo\n",
        "\n",
        "res=mi_modulo.sumar(7,5)\n",
        "print(res)\n",
        "\n",
        "mi_modulo.mi_print(\"Jesus,\",\"\\n\")"
      ],
      "metadata": {
        "colab": {
          "base_uri": "https://localhost:8080/"
        },
        "id": "8COGfsvuQuaG",
        "outputId": "a9167060-0ab8-42f1-f17b-ea17dfeb3e6e"
      },
      "execution_count": 2,
      "outputs": [
        {
          "output_type": "stream",
          "name": "stdout",
          "text": [
            "12\n",
            "Super:  Jesus,\n"
          ]
        }
      ]
    },
    {
      "cell_type": "code",
      "source": [
        "form mi_modulo import sumar\n",
        "res=sumar(5,3)\n",
        "print(res)\n",
        "mi_print(\"Jesus\",\"\\n\")"
      ],
      "metadata": {
        "id": "QvbBk6X-SHBn"
      },
      "execution_count": null,
      "outputs": []
    },
    {
      "cell_type": "code",
      "source": [
        "archivo=open(\"salida.txt\",\"wt\")\n",
        "archivo.write(\"Hola mundo\")\n",
        "archivo.close()"
      ],
      "metadata": {
        "id": "yMSojLc1TAsJ"
      },
      "execution_count": 6,
      "outputs": []
    },
    {
      "cell_type": "code",
      "source": [
        "!cat salida.txt"
      ],
      "metadata": {
        "colab": {
          "base_uri": "https://localhost:8080/"
        },
        "id": "rSii_zLYTL2H",
        "outputId": "dd50713d-5ed7-4bc9-ee4a-c725b2497012"
      },
      "execution_count": 7,
      "outputs": [
        {
          "output_type": "stream",
          "name": "stdout",
          "text": [
            "Hola mundo"
          ]
        }
      ]
    }
  ]
}