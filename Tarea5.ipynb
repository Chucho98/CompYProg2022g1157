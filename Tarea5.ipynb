{
  "nbformat": 4,
  "nbformat_minor": 0,
  "metadata": {
    "colab": {
      "name": "Tarea5.ipynb",
      "provenance": [],
      "authorship_tag": "ABX9TyNOalBB8jK9qaeV+0bH6n+y",
      "include_colab_link": true
    },
    "kernelspec": {
      "name": "python3",
      "display_name": "Python 3"
    },
    "language_info": {
      "name": "python"
    }
  },
  "cells": [
    {
      "cell_type": "markdown",
      "metadata": {
        "id": "view-in-github",
        "colab_type": "text"
      },
      "source": [
        "<a href=\"https://colab.research.google.com/github/Chucho98/CompYProg2022g1157/blob/main/Tarea5.ipynb\" target=\"_parent\"><img src=\"https://colab.research.google.com/assets/colab-badge.svg\" alt=\"Open In Colab\"/></a>"
      ]
    },
    {
      "cell_type": "markdown",
      "metadata": {
        "id": "GSQ5hhJdJ9pS"
      },
      "source": [
        "#Problema 1\n",
        "\n",
        "Hacer un programa que\n",
        "pida dos números enteros y que imprima en pantalla lo siguiente:\n",
        "\n",
        "\n",
        "¿Cuál de ellos es el número mayor?\n",
        "¿Cuál de ellos es el número menor?\n",
        "\n",
        "o en su defecto\n",
        "¿Imprimir que los valores son iguales?"
      ]
    },
    {
      "cell_type": "code",
      "metadata": {
        "id": "TztzlmD6E2p0",
        "colab": {
          "base_uri": "https://localhost:8080/"
        },
        "outputId": "12217145-a54e-414f-9ae9-cc3e3ae7046c"
      },
      "source": [
        "num = int(input(\"Escribe un número entero: \"))\n",
        "num2 = int(input(\"Escribe otro número entero: \"))\n",
        "if num > num2 :\n",
        "    print(f\"El número mayor es {num}\")\n",
        "    print(f\"Y el número menor es {num2}\")\n",
        "elif num == num2 :\n",
        "    print(\"Ambos números son iguales\")\n",
        "else:\n",
        "    print(f\"El número mayor es {num2}\")\n",
        "    print(f\"El número menor es {num}\")"
      ],
      "execution_count": 31,
      "outputs": [
        {
          "output_type": "stream",
          "name": "stdout",
          "text": [
            "Escribe un número entero: 1\n",
            "Escribe otro número entero: 2\n",
            "El número mayor es 2\n",
            "El número menor es 1\n"
          ]
        }
      ]
    },
    {
      "cell_type": "markdown",
      "metadata": {
        "id": "t2yH0vYQKG1h"
      },
      "source": [
        "#Problema 2\n",
        "Hacer un programa que solicite 3 números enteros diferentes entre sí y que imprima cuál de los 3 es el mayor"
      ]
    },
    {
      "cell_type": "code",
      "metadata": {
        "colab": {
          "base_uri": "https://localhost:8080/"
        },
        "id": "mY5kV-EnKJOa",
        "outputId": "ec4736dd-fde4-402c-f3c9-8c078814947c"
      },
      "source": [
        "num1 = int(input(\"Escribe un número entero: \"))\n",
        "num2 = int(input(\"Escribe un número entero diferente: \"))\n",
        "num3 = int(input(\"Escribe otro número entero diferente: \"))\n",
        "if num1 > num2:\n",
        "    if num1 > num3:\n",
        "        print(f\"El número mayor es {num1}\")\n",
        "    else:\n",
        "        print(f\"El número mayor es {num3}\")\n",
        "elif num2 > num3:\n",
        "    print(f\"El numero mayor es {num2}\")\n",
        "else:\n",
        "    print(f\"El número mayor es {num3}\")"
      ],
      "execution_count": 23,
      "outputs": [
        {
          "output_type": "stream",
          "name": "stdout",
          "text": [
            "Escribe un número entero: 2\n",
            "Escribe otro número entero: 1\n",
            "Escribe otro número entero: 3\n",
            "El número mayor es 3\n"
          ]
        }
      ]
    },
    {
      "cell_type": "markdown",
      "metadata": {
        "id": "BZilZv1dOvlb"
      },
      "source": [
        "#Problema 3\n",
        "Hacer un programa que solicite 3 números enteros diferentes entre sí y que imprima cuál de los 3 es el menor\n"
      ]
    },
    {
      "cell_type": "code",
      "metadata": {
        "colab": {
          "base_uri": "https://localhost:8080/"
        },
        "id": "SxIgSHcoOx3V",
        "outputId": "4b0c360b-14be-433f-e281-ded914608f03"
      },
      "source": [
        "num1 = int(input(\"Escribe un número entero: \"))\n",
        "num2 = int(input(\"Escribe un número entero diferente: \"))\n",
        "num3 = int(input(\"Escribe otro número entero diferente: \"))\n",
        "if num1 < num2:\n",
        "    if num1 < num3:\n",
        "        print(f\"El número menor es {num1}\")\n",
        "    else:\n",
        "        print(f\"El número menor es {num3}\")\n",
        "elif num2 < num3:\n",
        "    print(f\"El numero menor es {num2}\")\n",
        "else:\n",
        "    print(f\"El número menor es {num3}\")"
      ],
      "execution_count": 44,
      "outputs": [
        {
          "output_type": "stream",
          "name": "stdout",
          "text": [
            "Escribe un número entero: 3\n",
            "Escribe un número entero diferente: 2\n",
            "Escribe otro número entero duferente: 1\n",
            "El número menor es 1\n"
          ]
        }
      ]
    },
    {
      "cell_type": "markdown",
      "metadata": {
        "id": "2MvXigxdPUnc"
      },
      "source": [
        "#Problema 4\n",
        "Hacer un programa que solicite 4 números enteros diferentes entre sí y que imprima a la salida cuál de ellos es el menor y cuál de ellos es el mayor\n"
      ]
    },
    {
      "cell_type": "code",
      "metadata": {
        "colab": {
          "base_uri": "https://localhost:8080/"
        },
        "id": "-z-JMqLRPXNr",
        "outputId": "c626b645-65d1-432d-a27d-c5bc39dc01c0"
      },
      "source": [
        "print(\"Escribe 4 números diferentes entre si:\")\n",
        "num1 = int(input(\"Número 1: \"))\n",
        "num2 = int(input(\"Número 2: \"))\n",
        "num3 = int(input(\"Número 3: \"))\n",
        "num4 = int(input(\"Número 4: \"))\n",
        "if num1 > num2:\n",
        "    if num1 > num3:\n",
        "        if num1 > num4:\n",
        "            print(f\"El número mayor es {num1}\")\n",
        "        else:\n",
        "            print(f\"El número mayor es {num4}\")\n",
        "    elif num3 > num4:\n",
        "        print(f\"El número mayor es {num3}\")\n",
        "    else:\n",
        "        print(f\"El número mayor es {num4}\")      \n",
        "else:\n",
        "    if num2 > num3:\n",
        "        if num2 > num4:\n",
        "            print(f\"El número mayor es {num2}\")\n",
        "        else:\n",
        "            print(f\"El número mayor es {num4}\")\n",
        "    elif num3 > num4:\n",
        "        print(f\"El número mayor es {num3}\")\n",
        "    else:\n",
        "        print(f\"El número mayor es {num4}\")\n",
        "if num1 < num2:\n",
        "    if num1 < num3:\n",
        "        if num1 < num4:\n",
        "            print(f\"Y el número menor es {num1}\")\n",
        "        else:\n",
        "            print(f\"Y el número menor es {num4}\")\n",
        "    elif num3 < num4:\n",
        "        print(f\"Y el número menor es {num3}\")\n",
        "    else:\n",
        "        print(f\"Y el número menor es {num4}\")      \n",
        "else:\n",
        "    if num2 < num3:\n",
        "        if num2 < num4:\n",
        "            print(f\"Y el número menor es {num2}\")\n",
        "        else:\n",
        "            print(f\"Y el número menor es {num4}\")\n",
        "    elif num3 < num4:\n",
        "        print(f\"El número mayor es {num3}\")\n",
        "    else:\n",
        "        print(f\"Y el número menor es {num4}\")"
      ],
      "execution_count": 49,
      "outputs": [
        {
          "output_type": "stream",
          "name": "stdout",
          "text": [
            "Escribe 4 números diferentes entre si:\n",
            "Número 1: 90\n",
            "Número 2: 24\n",
            "Número 3: 3\n",
            "Número 4: 100\n",
            "El número mayor es 100\n",
            "El número mayor es 3\n"
          ]
        }
      ]
    }
  ]
}