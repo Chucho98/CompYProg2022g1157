{
  "nbformat": 4,
  "nbformat_minor": 0,
  "metadata": {
    "colab": {
      "name": "fundamentosCyP.ipynb",
      "provenance": [],
      "authorship_tag": "ABX9TyMxHCX10urWKYerHhhARi6v",
      "include_colab_link": true
    },
    "kernelspec": {
      "name": "python3",
      "display_name": "Python 3"
    },
    "language_info": {
      "name": "python"
    }
  },
  "cells": [
    {
      "cell_type": "markdown",
      "metadata": {
        "id": "view-in-github",
        "colab_type": "text"
      },
      "source": [
        "<a href=\"https://colab.research.google.com/github/Chucho98/CompYProg2022g1157/blob/main/fundamentosCyP.ipynb\" target=\"_parent\"><img src=\"https://colab.research.google.com/assets/colab-badge.svg\" alt=\"Open In Colab\"/></a>"
      ]
    },
    {
      "cell_type": "markdown",
      "metadata": {
        "id": "cuAENSUt0Slk"
      },
      "source": [
        "#12 de Octubre 2021"
      ]
    },
    {
      "cell_type": "code",
      "metadata": {
        "colab": {
          "base_uri": "https://localhost:8080/"
        },
        "id": "KchAH0ufWWOY",
        "outputId": "622c412f-84c3-4843-ed41-a23dab3ff1c0"
      },
      "source": [
        "  nombre = 'José' # Tipo de dato String ( cadena de caracteres)\n",
        "\n",
        "  print( nombre )\n",
        "\n"
      ],
      "execution_count": 32,
      "outputs": [
        {
          "output_type": "stream",
          "name": "stdout",
          "text": [
            "José\n"
          ]
        }
      ]
    },
    {
      "cell_type": "markdown",
      "metadata": {
        "id": "i0yW1jWjXYIk"
      },
      "source": [
        "# Tipos de dato en Python\n",
        "\n",
        "- str --> String cadena de caractéres.\n",
        "- int --> Numeros enteros\n",
        "- float --> Numeros con notacion de punto flotante\n",
        "- complex --> Numeros complejos\n",
        "- bool --> Booleano ( true or false)\n",
        "- byte --> 8 bits\n",
        "\n",
        "### Tipos de datos estructurados (compuestos)\n",
        "\n",
        "- list --> Listas ( Arreglos en otro leng)\n",
        "- tuple --> Listas no mutables\n",
        "- dict --> Diccionarios\n",
        "- set y frozenset --> Conjuntos"
      ]
    },
    {
      "cell_type": "code",
      "metadata": {
        "id": "1IE57yErb-lP"
      },
      "source": [
        "  import sys \n",
        "\n",
        "  edad = 19\n",
        "  print( \"Tu edad es:\",edad ) #al final de una línea de código\n",
        "  # este es uncomentario de linea simple \n",
        "\n",
        "  \"\"\"\n",
        "  Comentario de multiple línea\n",
        "  En lenguaje C, C++ y Java el comentario de múltple linea es con:\n",
        "  /* ..... */\n",
        "\n",
        "\n",
        "\n",
        "  //\n",
        "\n",
        "  Aqui puedes explicar en prosa el segmento de un código para futura recuperación\n",
        "\n",
        "  \"\"\"\n",
        "  # tipos de dato numerico  int y float \n",
        "\n",
        "  print ( sys.getsizeof(edad))\n",
        "  # el tipo de dato INT utiliza difeente cantidad de bits segun el\n",
        "  # leg de prog. por ejemplo C utiliza 16 bits\n",
        "\n",
        "  edad = edad + 1\n",
        "  print( edad )\n",
        "\n",
        "  estatura = 1.56\n",
        "  print(estatura)\n",
        "  print( sys.getsizeof(estatura))\n",
        "  estatura = estatura + 0.1\n",
        "  print( estatura )\n",
        "  print( round(estatura,2) )\n",
        "\n",
        "  edad += 1 # edad = edad + 1\n",
        "  print( \"Tu edad es:\",edad )\n",
        "\n",
        "  edad -= 1 # edad = edad - 1\n",
        "  print( \"Tu edad es:\",edad )\n",
        "\n",
        "  edad += 1 # vuelve a 21\n",
        "  edad /= 2 # edad = edad / 2\n",
        "  print( \"La mitad de tu edad es:\", edad)\n",
        "\n",
        "\n",
        "  edad = 21 \n",
        "  # volver a calcular la mitad de la edad pero solo dejar\n",
        "  # parte entera\n",
        "  edad = edad // 2 \n",
        "  print( \"La mitad de tu edad es:\",edad )\n",
        "\n",
        "  # En la mayoria de los leng no permite operaciones entre\n",
        "  # diferentes tipos de datos, en python no es el caso.\n",
        "\n",
        "  numero = edad / 2.0\n",
        "  print( numero )\n",
        "\n",
        "  numero *= 3\n",
        "  print( numero )\n",
        "\n",
        "  numero = 5.0\n",
        "  numero = numero ** 2\n",
        "  print( numero )"
      ],
      "execution_count": null,
      "outputs": []
    },
    {
      "cell_type": "markdown",
      "metadata": {
        "id": "mtl1YJ3GkGYG"
      },
      "source": [
        "Hacer un resumen de minimo 1 cuartilla d elos origenes del  lenguaje Python.\n",
        "\n",
        "- ¿Por qué de su creación?\n",
        "- Características principales.\n",
        "- Diferencias con otros lenguajes."
      ]
    },
    {
      "cell_type": "code",
      "metadata": {
        "id": "3XvflY3orYe8"
      },
      "source": [
        "  #operador modulo \n",
        "  numero = 21 \n",
        "  print( numero / 2 )\n",
        "  print( numero // 2 )\n",
        "\n",
        "  # el operador modulo da como resultado el residuo d euna division entera\n",
        "  print( numero % 2 )\n",
        "\n",
        "  numero = 24 \n",
        "  print( \"Residuo de 24/5:\",numero % 5 )\n",
        "\n",
        "  #operadores relacionales (logicos)\n",
        "  print( \"24 es par?\" ,numero % 2 == 0)\n",
        "\n",
        "  #diferencia\n",
        "  print( \"24 es diferente de 23=\",numero != 23 )\n",
        "  print(\"24 es mayor que 23=\", numero > 23 )\n",
        "  print(\"24 es menor que 23=\", numero < 23 )\n",
        "\n",
        "  print(\"24 es mayor o igual que 24\", numero >= 24 )\n",
        "  print(\"24 es mayor o igual que 23\", numero <= 23 )\n",
        "\n",
        "\n",
        "  print(\"El tipo de dato de la var numero es:\", type(numero) )\n",
        "  print(\"El tipo de dato de la var numero es:\", type(numero/2.0) )\n",
        "\n",
        "\n",
        "  "
      ],
      "execution_count": null,
      "outputs": []
    },
    {
      "cell_type": "markdown",
      "metadata": {
        "id": "T1RoFoOkpkJj"
      },
      "source": [
        "# tipo de dato String (str) en Python\n",
        "\n",
        "- Se maneja como un arreglo (tipo de dato compuesto)\n",
        "- Se puede acceder a los elementos de el string por medio del índice del caracter.\n",
        "- Mutable\n",
        "- Tiene métodos útiles (potentes) "
      ]
    },
    {
      "cell_type": "code",
      "metadata": {
        "id": "WO3AKt8sqF2O"
      },
      "source": [
        "nombre = 'Jose'\n",
        "carrera = \"Ingeniería en computación\"\n",
        "frase = \"\"\"El conocimiento \n",
        "me persigue,....\n",
        "per\n",
        "yo soy más rápido\n",
        "\"\"\"\n",
        "print( nombre )\n",
        "print( carrera )\n",
        "print( frase )\n",
        "\n",
        "# La funcion type de Python te devuelve el tipo de dato de una variable ( o expresión)\n",
        "print( type(nombre) )\n",
        "\n",
        "paterno = str( \"Perez\")\n",
        "print( paterno )"
      ],
      "execution_count": null,
      "outputs": []
    }
  ]
}