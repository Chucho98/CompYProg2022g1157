{
  "nbformat": 4,
  "nbformat_minor": 0,
  "metadata": {
    "colab": {
      "name": "fundamentosCyP.ipynb",
      "provenance": [],
      "authorship_tag": "ABX9TyM/IE0L93JYNr7SDGm8Ma7N",
      "include_colab_link": true
    },
    "kernelspec": {
      "name": "python3",
      "display_name": "Python 3"
    },
    "language_info": {
      "name": "python"
    }
  },
  "cells": [
    {
      "cell_type": "markdown",
      "metadata": {
        "id": "view-in-github",
        "colab_type": "text"
      },
      "source": [
        "<a href=\"https://colab.research.google.com/github/Chucho98/CompYProg2022g1157/blob/main/fundamentosCyP.ipynb\" target=\"_parent\"><img src=\"https://colab.research.google.com/assets/colab-badge.svg\" alt=\"Open In Colab\"/></a>"
      ]
    },
    {
      "cell_type": "markdown",
      "metadata": {
        "id": "msF9mGAP-nfT"
      },
      "source": [
        "# 14 de Octubre 2021"
      ]
    },
    {
      "cell_type": "code",
      "metadata": {
        "id": "KchAH0ufWWOY"
      },
      "source": [
        "  nombre = 'José' # Tipo de dato String ( cadena de caracteres)\n",
        "\n",
        "  print( nombre )\n",
        "\n"
      ],
      "execution_count": null,
      "outputs": []
    },
    {
      "cell_type": "markdown",
      "metadata": {
        "id": "i0yW1jWjXYIk"
      },
      "source": [
        "# Tipos de dato en Python\n",
        "\n",
        "- str --> String cadena de caractéres.\n",
        "- int --> Numeros enteros\n",
        "- float --> Numeros con notacion de punto flotante\n",
        "- complex --> Numeros complejos\n",
        "- bool --> Booleano ( true or false)\n",
        "- byte --> 8 bits\n",
        "\n",
        "### Tipos de datos estructurados (compuestos)\n",
        "\n",
        "- list --> Listas ( Arreglos en otro leng)\n",
        "- tuple --> Listas no mutables\n",
        "- dict --> Diccionarios\n",
        "- set y frozenset --> Conjuntos"
      ]
    },
    {
      "cell_type": "code",
      "metadata": {
        "id": "1IE57yErb-lP"
      },
      "source": [
        "  import sys \n",
        "\n",
        "  edad = 19\n",
        "  print( \"Tu edad es:\",edad ) #al final de una línea de código\n",
        "  # este es uncomentario de linea simple \n",
        "\n",
        "  \"\"\"\n",
        "  Comentario de multiple línea\n",
        "  En lenguaje C, C++ y Java el comentario de múltple linea es con:\n",
        "  /* ..... */\n",
        "\n",
        "\n",
        "\n",
        "  //\n",
        "\n",
        "  Aqui puedes explicar en prosa el segmento de un código para futura recuperación\n",
        "\n",
        "  \"\"\"\n",
        "  # tipos de dato numerico  int y float \n",
        "\n",
        "  print ( sys.getsizeof(edad))\n",
        "  # el tipo de dato INT utiliza difeente cantidad de bits segun el\n",
        "  # leg de prog. por ejemplo C utiliza 16 bits\n",
        "\n",
        "  edad = edad + 1\n",
        "  print( edad )\n",
        "\n",
        "  estatura = 1.56\n",
        "  print(estatura)\n",
        "  print( sys.getsizeof(estatura))\n",
        "  estatura = estatura + 0.1\n",
        "  print( estatura )\n",
        "  print( round(estatura,2) )\n",
        "\n",
        "  edad += 1 # edad = edad + 1\n",
        "  print( \"Tu edad es:\",edad )\n",
        "\n",
        "  edad -= 1 # edad = edad - 1\n",
        "  print( \"Tu edad es:\",edad )\n",
        "\n",
        "  edad += 1 # vuelve a 21\n",
        "  edad /= 2 # edad = edad / 2\n",
        "  print( \"La mitad de tu edad es:\", edad)\n",
        "\n",
        "\n",
        "  edad = 21 \n",
        "  # volver a calcular la mitad de la edad pero solo dejar\n",
        "  # parte entera\n",
        "  edad = edad // 2 \n",
        "  print( \"La mitad de tu edad es:\",edad )\n",
        "\n",
        "  # En la mayoria de los leng no permite operaciones entre\n",
        "  # diferentes tipos de datos, en python no es el caso.\n",
        "\n",
        "  numero = edad / 2.0\n",
        "  print( numero )\n",
        "\n",
        "  numero *= 3\n",
        "  print( numero )\n",
        "\n",
        "  numero = 5.0\n",
        "  numero = numero ** 2\n",
        "  print( numero )"
      ],
      "execution_count": null,
      "outputs": []
    },
    {
      "cell_type": "markdown",
      "metadata": {
        "id": "mtl1YJ3GkGYG"
      },
      "source": [
        "Hacer un resumen de minimo 1 cuartilla d elos origenes del  lenguaje Python.\n",
        "\n",
        "- ¿Por qué de su creación?\n",
        "- Características principales.\n",
        "- Diferencias con otros lenguajes."
      ]
    },
    {
      "cell_type": "code",
      "metadata": {
        "id": "3XvflY3orYe8"
      },
      "source": [
        "  #operador modulo \n",
        "  numero = 21 \n",
        "  print( numero / 2 )\n",
        "  print( numero // 2 )\n",
        "\n",
        "  # el operador modulo da como resultado el residuo d euna division entera\n",
        "  print( numero % 2 )\n",
        "\n",
        "  numero = 24 \n",
        "  print( \"Residuo de 24/5:\",numero % 5 )\n",
        "\n",
        "  #operadores relacionales (logicos)\n",
        "  print( \"24 es par?\" ,numero % 2 == 0)\n",
        "\n",
        "  #diferencia\n",
        "  print( \"24 es diferente de 23=\",numero != 23 )\n",
        "  print(\"24 es mayor que 23=\", numero > 23 )\n",
        "  print(\"24 es menor que 23=\", numero < 23 )\n",
        "\n",
        "  print(\"24 es mayor o igual que 24\", numero >= 24 )\n",
        "  print(\"24 es mayor o igual que 23\", numero <= 23 )\n",
        "\n",
        "\n",
        "  print(\"El tipo de dato de la var numero es:\", type(numero) )\n",
        "  print(\"El tipo de dato de la var numero es:\", type(numero/2.0) )\n",
        "\n",
        "\n",
        "  "
      ],
      "execution_count": null,
      "outputs": []
    },
    {
      "cell_type": "markdown",
      "metadata": {
        "id": "T1RoFoOkpkJj"
      },
      "source": [
        "# tipo de dato String (str) en Python\n",
        "\n",
        "- Se maneja como un arreglo (tipo de dato compuesto)\n",
        "- Se puede acceder a los elementos de el string por medio del índice del caracter.\n",
        "- Mutable\n",
        "- Tiene métodos útiles (potentes) "
      ]
    },
    {
      "cell_type": "code",
      "metadata": {
        "id": "WO3AKt8sqF2O"
      },
      "source": [
        "nombre = 'Jose'\n",
        "carrera = \"Ingeniería en computación\"\n",
        "frase = \"\"\"El conocimiento \n",
        "me persigue,....\n",
        "pero\n",
        "yo soy más rápido\n",
        "\"\"\"\n",
        "print( nombre )\n",
        "print( carrera )\n",
        "print( frase )\n",
        "\n",
        "# La funcion type de Python te devuelve el tipo de dato de una variable ( o expresión)\n",
        "print( type(nombre) )\n",
        "\n",
        "paterno = str( \"Perez\")\n",
        "print( paterno )"
      ],
      "execution_count": null,
      "outputs": []
    },
    {
      "cell_type": "markdown",
      "metadata": {
        "id": "sjdNSVMqpHV0"
      },
      "source": [
        "Una clase (class) es un nuevo tipo de dato compuesto."
      ]
    },
    {
      "cell_type": "code",
      "metadata": {
        "id": "NYBR0CRTpeX0"
      },
      "source": [
        "carrera = \"Ingeniería en computación\"\n",
        "print( carrera )\n",
        "print( carrera[2] )"
      ],
      "execution_count": null,
      "outputs": []
    },
    {
      "cell_type": "markdown",
      "metadata": {
        "id": "NqAHQbYVrnTa"
      },
      "source": [
        "# A la sintaxis escrita para elegir un elemento de un grupo de datos se le llama selector.\n",
        "\n",
        "En el caso de Strings y listas (lst) se usan los caracteres '[' y ']'\n",
        "\n",
        "1. En todos los lenguajes, los arreglos inician en 0.\n",
        "2. En python no existe como tal el tipo de dato arreglo, el concepto es sustituido por las listas.\n",
        "3. Los strings se comportan como un arreglo en la mayoria de los lenguajes.\n",
        "4. En python se acepta en indexado negativo, en otros lenguajes NO."
      ]
    },
    {
      "cell_type": "code",
      "metadata": {
        "colab": {
          "base_uri": "https://localhost:8080/"
        },
        "id": "9MS9_1xNscBd",
        "outputId": "b7fc3121-9ceb-4d01-ea22-7ea4afa4cf0d"
      },
      "source": [
        "carrera = \"Ingeniería en computación\"\n",
        "print( carrera[8])\n",
        "print( carrera[24])\n",
        "print( carrera[-1])\n",
        "print( carrera[-25])\n",
        "\n",
        "\n",
        "# Adelantando el tema ciclo FOR\n",
        "\n",
        "for letra in carrera:\n",
        "    print( \"-->\" ,letra ,\"<__\")\n",
        "\n"
      ],
      "execution_count": 54,
      "outputs": [
        {
          "output_type": "stream",
          "name": "stdout",
          "text": [
            "í\n",
            "n\n",
            "n\n",
            "I\n",
            "--> I <__\n",
            "--> n <__\n",
            "--> g <__\n",
            "--> e <__\n",
            "--> n <__\n",
            "--> i <__\n",
            "--> e <__\n",
            "--> r <__\n",
            "--> í <__\n",
            "--> a <__\n",
            "-->   <__\n",
            "--> e <__\n",
            "--> n <__\n",
            "-->   <__\n",
            "--> c <__\n",
            "--> o <__\n",
            "--> m <__\n",
            "--> p <__\n",
            "--> u <__\n",
            "--> t <__\n",
            "--> a <__\n",
            "--> c <__\n",
            "--> i <__\n",
            "--> ó <__\n",
            "--> n <__\n"
          ]
        }
      ]
    },
    {
      "cell_type": "markdown",
      "metadata": {
        "id": "13OM1_PMu4WS"
      },
      "source": [
        "# Slicing (rebanado) de cadenas\n",
        "\n",
        "Permite seleccionar subcadenas con el operador \n",
        "###[inicio : stop : incremento]\n",
        "El stop no se incluye, es por eso que debemos de agregar una posicion extra.\n",
        "\n",
        "### Slicing y valores por defectto\n",
        "\n",
        "Inicio por defecto siempre será 0 \n",
        "\n",
        "stop: tamaño del arreglo (indexado positivo)\n",
        "y sera 0 (en un indexado negativo)\n",
        "\n",
        "Incremento:  es 1 (indexado positivo)\n"
      ]
    },
    {
      "cell_type": "code",
      "metadata": {
        "colab": {
          "base_uri": "https://localhost:8080/"
        },
        "id": "ORt6uO_xvVH9",
        "outputId": "4717ab0d-d51e-4344-e8f8-3cbc870d432f"
      },
      "source": [
        "carrera = \"Ingeniería en computación\"\n",
        "print(carrera[0:10:1])\n",
        "print(carrera[14:25:1])\n",
        "# lo mismo pero con indexado negativo\n",
        "print(carrera[-11:-1:1])\n",
        "print(carrera[:10:])\n",
        "print(carrera[14:25])\n",
        "print(carrera[-11: :1])\n",
        "\n",
        "# Solucion previa\n",
        "print(\"--------\")\n",
        "print(carrera[-11:-1:1])\n",
        "print(carrera[-11: :1])\n",
        "\n",
        "# Un ejercicio mas para ver incremento\n",
        "print(carrera[0:10:2])\n",
        "print(carrera[-1:-12:-1])\n",
        "print(carrera[24:13:-1])"
      ],
      "execution_count": 45,
      "outputs": [
        {
          "output_type": "stream",
          "name": "stdout",
          "text": [
            "Ingeniería\n",
            "computación\n",
            "computació\n",
            "Ingeniería\n",
            "computación\n",
            "computación\n",
            "--------\n",
            "computació\n",
            "computación\n",
            "Igneí\n",
            "nóicatupmoc\n",
            "nóicatupmoc\n"
          ]
        }
      ]
    },
    {
      "cell_type": "markdown",
      "metadata": {
        "id": "tzhkaKip07Dk"
      },
      "source": [
        "# String y sus métodos\n",
        "# Todos los tipos de dato en python son objetos de la POO\n",
        "\n",
        "### Lo cual significa que tiene atributos y métodos.\n",
        "\n",
        "### dir() y help() funciones para obtener ayuda del leng.\n",
        "\n",
        "### dir muestra las funciones de un tipo de dato como resumen.\n",
        "\n",
        "### help muestra la misma ayuda pero a detalle.\n",
        "\n",
        "Metodo que inician con doble guion bajo son privados de uso interno de"
      ]
    },
    {
      "cell_type": "code",
      "metadata": {
        "colab": {
          "base_uri": "https://localhost:8080/"
        },
        "id": "wLqyxTNP1RHb",
        "outputId": "d7192918-f5f9-4684-c7a6-fc1502dcc82f"
      },
      "source": [
        "frutas = \" limon, fresa, manzana, aguacate \"\n",
        "nombre = \"jose\"\n",
        "print(frutas)\n",
        "\n",
        "\n",
        "print(nombre.capitalize())\n",
        "print(nombre.upper())\n",
        "print(frutas.replace( 'a' , '4' ).replace('e' , '3').upper() )\n",
        "frutas = frutas.replace( 'a','4' ).replace('e' , '3').upper()\n",
        "print(frutas)\n",
        "print(\".-.-.-.-.-.-.-.-.-.-.-.-.-.-.-.-\")\n",
        "frutas = \"  limon , fresa , manzana , aguacate \"\n",
        "print( frutas.strip())\n",
        "print( frutas.split(','))\n",
        "print(frutas.index(\"n\")) "
      ],
      "execution_count": 53,
      "outputs": [
        {
          "output_type": "stream",
          "name": "stdout",
          "text": [
            " limon, fresa, manzana, aguacate \n",
            "Jose\n",
            "JOSE\n",
            " LIMON, FR3S4, M4NZ4N4, 4GU4C4T3 \n",
            " LIMON, FR3S4, M4NZ4N4, 4GU4C4T3 \n",
            ".-.-.-.-.-.-.-.-.-.-.-.-.-.-.-.-\n",
            "limon , fresa , manzana , aguacate\n",
            "['  limon ', ' fresa ', ' manzana ', ' aguacate ']\n",
            "6\n"
          ]
        }
      ]
    },
    {
      "cell_type": "markdown",
      "metadata": {
        "id": "Lhy-YXIq8cqE"
      },
      "source": [
        "# String y caracteres de escape\n",
        "\n",
        "\"Jose\"\n",
        "- \\\" --> \"\n",
        "- \\' --> '\n",
        "- \\n --> Salto de linea ( tecla enter)\n",
        "- \\t --> Tabulador espacios a la izq.\n",
        "- \\uxxxx --> Caracteres unicode\n",
        "- \\Uxxxxxxxx --> Unicode extendido"
      ]
    },
    {
      "cell_type": "code",
      "metadata": {
        "colab": {
          "base_uri": "https://localhost:8080/"
        },
        "id": "xxgbn2sw81UQ",
        "outputId": "2893bb00-c019-4541-b19e-1ed747a42561"
      },
      "source": [
        "print(\"\\\"jose\\\"\")\n",
        "nombre = \" \\\"jose\\\"\"\n",
        "print(nombre)\n",
        "carrera = \"Ingeniería \\n\\ten \\n\\t\\tComputación\"\n",
        "print(carrera)"
      ],
      "execution_count": 60,
      "outputs": [
        {
          "output_type": "stream",
          "name": "stdout",
          "text": [
            "\"jose\"\n",
            " \"jose\"\n",
            "Ingeniería \n",
            "\ten \n",
            "\t\tComputación\n"
          ]
        }
      ]
    }
  ]
}