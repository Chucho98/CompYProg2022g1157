{
  "nbformat": 4,
  "nbformat_minor": 0,
  "metadata": {
    "colab": {
      "name": " Ejercicio en clase 23-nov-21.ipynb",
      "provenance": [],
      "authorship_tag": "ABX9TyPSy/TNsqe8xRC6Gza+/cWG",
      "include_colab_link": true
    },
    "kernelspec": {
      "name": "python3",
      "display_name": "Python 3"
    },
    "language_info": {
      "name": "python"
    }
  },
  "cells": [
    {
      "cell_type": "markdown",
      "metadata": {
        "id": "view-in-github",
        "colab_type": "text"
      },
      "source": [
        "<a href=\"https://colab.research.google.com/github/Chucho98/CompYProg2022g1157/blob/main/Ejercicio_en_clase_23_nov_21.ipynb\" target=\"_parent\"><img src=\"https://colab.research.google.com/assets/colab-badge.svg\" alt=\"Open In Colab\"/></a>"
      ]
    },
    {
      "cell_type": "markdown",
      "metadata": {
        "id": "albq_NthNQY8"
      },
      "source": [
        "#Ejercicio en clase 23-nov-21"
      ]
    },
    {
      "cell_type": "code",
      "metadata": {
        "id": "WCwz8T2eNPO2"
      },
      "source": [
        "A = int(input(\"Escribe un número entero: \"))\n",
        "B = int(input(\"Escribe un número entero diferente: \"))\n",
        "C = int(input(\"Escribe otro número entero diferente: \"))\n",
        "if A==B==C or A==B or A==C or B==C:\n",
        "    print(\"Algunos números se repiten, deben de ser todos diferentes\")\n",
        "else:\n",
        "    if A > B:\n",
        "        if A > C:\n",
        "            if B > C:\n",
        "                print(f\"Orden de mayor a menor: {A}, {B}, {C}\")\n",
        "            else:\n",
        "                print(f\"Orden de mayor a menor: {A}, {C}, {B}\")\n",
        "        else:\n",
        "            print(f\"Orden de mayor a menor: {C}, {A}, {B}\")\n",
        "    else:\n",
        "        if B > C:\n",
        "            if A > C:\n",
        "                print(f\"Orden de mayor a menor: {B}, {A}, {C}\")\n",
        "            else:\n",
        "                print(f\"Orden de mayor a menor: {B}, {C}, {A}\")\n",
        "        else:\n",
        "            print(f\"Orden de mayor a menor: {C}, {B}, {A}\")\n",
        "print(\"Fin del programa\")"
      ],
      "execution_count": null,
      "outputs": []
    }
  ]
}