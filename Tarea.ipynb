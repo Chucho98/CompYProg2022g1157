{
  "nbformat": 4,
  "nbformat_minor": 0,
  "metadata": {
    "colab": {
      "name": "Tarea.ipynb",
      "provenance": [],
      "authorship_tag": "ABX9TyMUOT4pAE7yqWfL5uNC4H4Z",
      "include_colab_link": true
    },
    "kernelspec": {
      "name": "python3",
      "display_name": "Python 3"
    },
    "language_info": {
      "name": "python"
    }
  },
  "cells": [
    {
      "cell_type": "markdown",
      "metadata": {
        "id": "view-in-github",
        "colab_type": "text"
      },
      "source": [
        "<a href=\"https://colab.research.google.com/github/Chucho98/CompYProg2022g1157/blob/main/Tarea.ipynb\" target=\"_parent\"><img src=\"https://colab.research.google.com/assets/colab-badge.svg\" alt=\"Open In Colab\"/></a>"
      ]
    },
    {
      "cell_type": "code",
      "metadata": {
        "colab": {
          "base_uri": "https://localhost:8080/"
        },
        "id": "-usJxBQGSIdO",
        "outputId": "c6cf773b-5ee1-4cf1-b3cb-26ff406fe400"
      },
      "source": [
        "print(\"JJJJJJ  EEEEEE  SSSSSS  UU  UU  SSSSSS \\n  JJ    EE      SS      UU  UU  SS \\n  JJ    EEEE      SS    UU  UU    SS \\n  JJ    EE          SS  UU  UU      SS \\nJJJJ    EEEEEE  SSSSSS   UUUU   SSSSSS\")"
      ],
      "execution_count": 9,
      "outputs": [
        {
          "output_type": "stream",
          "name": "stdout",
          "text": [
            "JJJJJJ  EEEEEE  SSSSSS  UU  UU  SSSSSS \n",
            "  JJ    EE      SS      UU  UU  SS \n",
            "  JJ    EEEE      SS    UU  UU    SS \n",
            "  JJ    EE          SS  UU  UU      SS \n",
            "JJJJ    EEEEEE  SSSSSS   UUUU   SSSSSS\n"
          ]
        }
      ]
    },
    {
      "cell_type": "code",
      "metadata": {
        "colab": {
          "base_uri": "https://localhost:8080/"
        },
        "id": "3XMF-7QPfZFY",
        "outputId": "0903ea70-0c9b-4ca2-ad67-b1ff17655c61"
      },
      "source": [
        "print(\"JJJJJJ \\n  JJ   \\n  JJ   \\n  JJ   \\nJJJJ  \\n\\nEEEEEE \\nEE     \\nEEEE   \\nEE     \\nEEEEEE \\n\\nSSSSSS \\nSS     \\n  SS   \\n    SS \\nSSSSSS \\n\\nUU  UU \\nUU  UU \\nUU  UU \\nUU  UU \\n UUUU \\n\\nSSSSSS \\nSS     \\n  SS   \\n    SS \\nSSSSSS \")"
      ],
      "execution_count": 17,
      "outputs": [
        {
          "output_type": "stream",
          "name": "stdout",
          "text": [
            "JJJJJJ \n",
            "  JJ   \n",
            "  JJ   \n",
            "  JJ   \n",
            "JJJJ  \n",
            "\n",
            "EEEEEE \n",
            "EE     \n",
            "EEEE   \n",
            "EE     \n",
            "EEEEEE \n",
            "\n",
            "SSSSSS \n",
            "SS     \n",
            "  SS   \n",
            "    SS \n",
            "SSSSSS \n",
            "\n",
            "UU  UU \n",
            "UU  UU \n",
            "UU  UU \n",
            "UU  UU \n",
            " UUUU \n",
            "\n",
            "SSSSSS \n",
            "SS     \n",
            "  SS   \n",
            "    SS \n",
            "SSSSSS \n"
          ]
        }
      ]
    },
    {
      "cell_type": "markdown",
      "metadata": {
        "id": "IIDZe_m2TAlk"
      },
      "source": [
        "      JJJJJJ  EEEEEE  SSSSSS  UU  UU  SSSSSS\n",
        "        JJ    EE      SS      UU  UU  SS\n",
        "        JJ    EEEE      SS    UU  UU    SS\n",
        "        JJ    EE          SS  UU  UU      SS\n",
        "      JJJJ    EEEEEE  SSSSSS   UUUU   SSSSSS"
      ]
    }
  ]
}