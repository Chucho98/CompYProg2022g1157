{
  "nbformat": 4,
  "nbformat_minor": 0,
  "metadata": {
    "colab": {
      "name": "Fundamentos2_CyP.ipynb",
      "provenance": [],
      "authorship_tag": "ABX9TyMCZzBDZK9LnGgP7KuN5gBD",
      "include_colab_link": true
    },
    "kernelspec": {
      "name": "python3",
      "display_name": "Python 3"
    },
    "language_info": {
      "name": "python"
    }
  },
  "cells": [
    {
      "cell_type": "markdown",
      "metadata": {
        "id": "view-in-github",
        "colab_type": "text"
      },
      "source": [
        "<a href=\"https://colab.research.google.com/github/Chucho98/CompYProg2022g1157/blob/main/Fundamentos2_CyP.ipynb\" target=\"_parent\"><img src=\"https://colab.research.google.com/assets/colab-badge.svg\" alt=\"Open In Colab\"/></a>"
      ]
    },
    {
      "cell_type": "markdown",
      "metadata": {
        "id": "8IdbTyPRZupm"
      },
      "source": [
        "#4 de Noviembre 2021"
      ]
    },
    {
      "cell_type": "markdown",
      "metadata": {
        "id": "x_M-ahHoFbqQ"
      },
      "source": [
        "#Tipos de datos estructurados de Python\n",
        "\n",
        "1. Listas\n",
        "2. Tuplas\n",
        "3. Diccionarios\n",
        "4. Conjuntos (opcional)"
      ]
    },
    {
      "cell_type": "markdown",
      "metadata": {
        "id": "WKM879siFueO"
      },
      "source": [
        "#Listas \n",
        "\n",
        "- Tipo de dato que agrupa variables o valores\n",
        "- Estructura secuencial (undexados empezando por 0)\n",
        "- Se declara de dos formas\n",
        "    - usando [ ]\n",
        "    - usando list( )\n",
        "- Puede contener tipos de datos diversos (En otros lenguajes de programación eso no es posible de forma directa)\n",
        "- Los elementos internos se seleccionan con [ ]\n",
        "- Soporta slicing\n",
        "- Son mutables"
      ]
    },
    {
      "cell_type": "code",
      "metadata": {
        "colab": {
          "base_uri": "https://localhost:8080/"
        },
        "id": "ohvkFU_tFXEY",
        "outputId": "f83035cb-86bb-42ec-fa31-3c43c258eae0"
      },
      "source": [
        "numeros = [10, 5, 2, 3, 1]\n",
        "print(numeros)\n",
        "\n",
        "numeros2 = list()\n",
        "numeros2.append(10)\n",
        "numeros2.append(5)\n",
        "numeros2.append(3)\n",
        "numeros2.append(2)\n",
        "numeros2.append(1)\n",
        "print(numeros2)\n",
        "numeros[2] = 20\n",
        "print(numeros)\n",
        "numeros[4] = 33"
      ],
      "execution_count": null,
      "outputs": [
        {
          "output_type": "stream",
          "name": "stdout",
          "text": [
            "[10, 5, 2, 3, 1]\n",
            "[10, 5, 3, 2, 1]\n",
            "[10, 5, 20, 3, 1]\n"
          ]
        }
      ]
    },
    {
      "cell_type": "code",
      "metadata": {
        "colab": {
          "base_uri": "https://localhost:8080/"
        },
        "id": "87-0TXUGIjE4",
        "outputId": "a7b9b83e-7b57-4566-a6c1-5c0a71daeb1a"
      },
      "source": [
        "# Tipos diversos\n",
        "\n",
        "cosas = [12 , 2 , True , \"José\" , 1.57 , [\"pera\" , \"kiwi\" , \"uva\"]]\n",
        "print(cosas)\n",
        "print(cosas[1])\n",
        "print(cosas[4])\n",
        "print(cosas[5])\n",
        "print(cosas[5][1])\n",
        "print(cosas[3][1:3:])\n",
        "cosas[3] = cosas[3].upper()\n",
        "print(cosas)"
      ],
      "execution_count": null,
      "outputs": [
        {
          "output_type": "stream",
          "name": "stdout",
          "text": [
            "[12, 2, True, 'José', 1.57, ['pera', 'kiwi', 'uva']]\n",
            "2\n",
            "1.57\n",
            "['pera', 'kiwi', 'uva']\n",
            "kiwi\n",
            "os\n",
            "[12, 2, True, 'JOSÉ', 1.57, ['pera', 'kiwi', 'uva']]\n"
          ]
        }
      ]
    },
    {
      "cell_type": "code",
      "metadata": {
        "colab": {
          "base_uri": "https://localhost:8080/"
        },
        "id": "0S5YzwwGMvL_",
        "outputId": "911dd06b-0461-4895-e8e0-a8a071825fc8"
      },
      "source": [
        "numeros = [1,2,3,4,5,6,7,8,9,10.11]\n",
        "print(numeros)\n",
        "# Slicing\n",
        "# 1.- 4 al 8??\n",
        "print(numeros[3:8])\n",
        "# 2.- [9,10]\n",
        "print(numeros[8:10:])\n",
        "print(numeros[-3:-1:])\n",
        "# 3.- Imprimir la lista en orden inverso [11,10,9,etc., 1]\n",
        "print(numeros[ : : -1])"
      ],
      "execution_count": null,
      "outputs": [
        {
          "output_type": "stream",
          "name": "stdout",
          "text": [
            "[1, 2, 3, 4, 5, 6, 7, 8, 9, 10.11]\n",
            "[9, 10.11]\n",
            "[8, 9]\n"
          ]
        }
      ]
    },
    {
      "cell_type": "code",
      "metadata": {
        "colab": {
          "base_uri": "https://localhost:8080/"
        },
        "id": "iBfeBr1DQKFf",
        "outputId": "4e2027cc-b7e3-4cb5-9b7e-71741e65a76e"
      },
      "source": [
        "#Crear una lista con un generador\n",
        "numeros = [ x*3 for x in range(101)]\n",
        "print(numeros)"
      ],
      "execution_count": null,
      "outputs": [
        {
          "output_type": "stream",
          "name": "stdout",
          "text": [
            "[0, 3, 6, 9, 12, 15, 18, 21, 24, 27, 30, 33, 36, 39, 42, 45, 48, 51, 54, 57, 60, 63, 66, 69, 72, 75, 78, 81, 84, 87, 90, 93, 96, 99, 102, 105, 108, 111, 114, 117, 120, 123, 126, 129, 132, 135, 138, 141, 144, 147, 150, 153, 156, 159, 162, 165, 168, 171, 174, 177, 180, 183, 186, 189, 192, 195, 198, 201, 204, 207, 210, 213, 216, 219, 222, 225, 228, 231, 234, 237, 240, 243, 246, 249, 252, 255, 258, 261, 264, 267, 270, 273, 276, 279, 282, 285, 288, 291, 294, 297, 300]\n"
          ]
        }
      ]
    },
    {
      "cell_type": "markdown",
      "metadata": {
        "id": "QR68kb0aQzwb"
      },
      "source": [
        "#Funcion range()\n",
        "tiene los mismos componentes que slicing\n",
        "ini, stop, incremento\n",
        "range(1, 101, 1)\n"
      ]
    },
    {
      "cell_type": "code",
      "metadata": {
        "colab": {
          "base_uri": "https://localhost:8080/"
        },
        "id": "7kHlTfrLRAsb",
        "outputId": "606fc9a6-1d24-48a4-d16e-a8f2913d4dfe"
      },
      "source": [
        "numeros = [ x for x in range(50, 101, 5)]\n",
        "print(numeros)"
      ],
      "execution_count": null,
      "outputs": [
        {
          "output_type": "stream",
          "name": "stdout",
          "text": [
            "[50, 55, 60, 65, 70, 75, 80, 85, 90, 95, 100]\n"
          ]
        }
      ]
    },
    {
      "cell_type": "code",
      "metadata": {
        "colab": {
          "base_uri": "https://localhost:8080/"
        },
        "id": "Gqoqs5dQSj1t",
        "outputId": "b7fac06d-e787-4a5a-b041-574ec300a91b"
      },
      "source": [
        "numeros = [4,1,15,8,22,34,50]\n",
        "print(numeros)\n",
        "numeros.append(99)\n",
        "print(numeros)\n",
        "#Numeros.clear()\n",
        "numeros = []\n",
        "print(numeros)\n",
        "\n",
        "frutas = [\"uvas\" , \"Kiwi\" , \"manzana\" ]\n",
        "copia = frutas\n",
        "print( frutas )\n",
        "print( copia )\n",
        "frutas.append(\"Naranja\")\n",
        "print( frutas )\n",
        "print( copia )\n",
        "\n",
        "colores = [\"rojo\" , \"azul\" , \"blanco\"]\n",
        "copia2 = colores.copy()\n",
        "print(colores)\n",
        "print(copia2)\n",
        "colores.append(\"verde\")\n",
        "print(colores)\n",
        "print(copia2)\n",
        "\n",
        "print(\"Numero de veces que aparece el 15=\" , numeros.count(15))\n",
        "\n",
        "#Extend \n",
        "\n",
        "nombres = [\"Jose\" , \"Pedro\" , \"karina\"]\n",
        "otrosNombres = [\"Josue\",\"Diana\",\"Dalia\"]\n",
        "\n",
        "print(nombres)\n",
        "print(otrosNombres)\n",
        "nombres = nombres + otrosNombres\n",
        "print(nombres)\n",
        "print(otrosNombres)\n",
        "\n",
        "#Lo mismo con el método extend\n",
        "otrosNombres.extend([\"Jesús\",\"María\",\"José\"])\n",
        "print(otrosNombres)\n",
        "print(\"Jesús esta en la posición:\", otrosNombres.index(\"Jesús\"))\n",
        "otrosNombres.insert(4, \"Espiritu santo\")\n",
        "print(otrosNombres)\n",
        "\n",
        "#pop\n",
        "resultado = otrosNombres.pop() # almacena el ultimo resultado en resultado\n",
        "print(otrosNombres)\n",
        "print(resultado)"
      ],
      "execution_count": null,
      "outputs": [
        {
          "output_type": "stream",
          "name": "stdout",
          "text": [
            "[4, 1, 15, 8, 22, 34, 50]\n",
            "[4, 1, 15, 8, 22, 34, 50, 99]\n",
            "[]\n",
            "['uvas', 'Kiwi', 'manzana']\n",
            "['uvas', 'Kiwi', 'manzana']\n",
            "['uvas', 'Kiwi', 'manzana', 'Naranja']\n",
            "['uvas', 'Kiwi', 'manzana', 'Naranja']\n",
            "['rojo', 'azul', 'blanco']\n",
            "['rojo', 'azul', 'blanco']\n",
            "['rojo', 'azul', 'blanco', 'verde']\n",
            "['rojo', 'azul', 'blanco']\n",
            "Numero de veces que aparece el 15= 0\n",
            "['Jose', 'Pedro', 'karina']\n",
            "['Josue', 'Diana', 'Dalia']\n",
            "['Jose', 'Pedro', 'karina', 'Josue', 'Diana', 'Dalia']\n",
            "['Josue', 'Diana', 'Dalia']\n",
            "['Josue', 'Diana', 'Dalia', 'Jesús', 'María', 'José']\n",
            "Jesús esta en la posición: 3\n",
            "['Josue', 'Diana', 'Dalia', 'Jesús', 'Espiritu santo', 'María', 'José']\n",
            "['Josue', 'Diana', 'Dalia', 'Jesús', 'Espiritu santo', 'María']\n",
            "José\n"
          ]
        }
      ]
    },
    {
      "cell_type": "markdown",
      "metadata": {
        "id": "Sqdt7JFMwAvO"
      },
      "source": [
        "# 9 de Noviembre 2021"
      ]
    },
    {
      "cell_type": "markdown",
      "metadata": {
        "id": "gatbYfdzwFoh"
      },
      "source": [
        "# Tuplas\n",
        "\n",
        "###Caracteristicas de las tuplas\n",
        "\n",
        "- Datos agrupados.\n",
        "- Se declara usando: \n",
        "    - ( )\n",
        "    - tuple( )\n",
        "- Estructura secuenciañ, indexada desde 0 a partir de 0.\n",
        "_ Pueden tener de 0 a n elementos.\n",
        "- No son mutables (No se puede: eliminar y/o cambiar).\n",
        "- Son buenas para almacenar información de consulta.\n",
        "- Puede almacenar informacion de diferentes tipos de datos.\n",
        "- Pueden estar anidadas.\n",
        "- Tienen métodos útiles."
      ]
    },
    {
      "cell_type": "code",
      "metadata": {
        "colab": {
          "base_uri": "https://localhost:8080/"
        },
        "id": "XmmGGKDzwEzI",
        "outputId": "df0c2228-afae-4e1e-9ffc-fea1d6401514"
      },
      "source": [
        "info = (\"juan23\", \"dios1234\", \"123.232.1.12\")\n",
        "print(info)\n",
        "print(info[1])\n",
        "#info[1] = \"patito23\"\n",
        "\n",
        "numeros = (0,1,2,3,4,5,6,7,8,9,10,11,12,13,14,15)\n",
        "print(numeros)\n",
        "print(numeros[5:11])\n",
        "\n",
        "cosas = (info , numeros)\n",
        "print(cosas)\n",
        "print(cosas[1][5:11])\n",
        "print(cosas[0][2][4:7])\n",
        "print(cosas[0][2][-8:-5])"
      ],
      "execution_count": 12,
      "outputs": [
        {
          "output_type": "stream",
          "name": "stdout",
          "text": [
            "('juan23', 'dios1234', '123.232.1.12')\n",
            "dios1234\n",
            "(0, 1, 2, 3, 4, 5, 6, 7, 8, 9, 10, 11, 12, 13, 14, 15)\n",
            "(5, 6, 7, 8, 9, 10)\n",
            "(('juan23', 'dios1234', '123.232.1.12'), (0, 1, 2, 3, 4, 5, 6, 7, 8, 9, 10, 11, 12, 13, 14, 15))\n",
            "(5, 6, 7, 8, 9, 10)\n",
            "232\n",
            "232\n"
          ]
        }
      ]
    },
    {
      "cell_type": "markdown",
      "metadata": {
        "id": "pafCIDBd0nGF"
      },
      "source": [
        "# Métodos de la tuplas\n",
        "\n",
        "Son los mismos de las listas pero los que no invlucren mutabilidad."
      ]
    },
    {
      "cell_type": "code",
      "metadata": {
        "colab": {
          "base_uri": "https://localhost:8080/"
        },
        "id": "VFqsiOdbyZQs",
        "outputId": "6b3d3d80-d3a9-4114-dee8-76d84f419c0e"
      },
      "source": [
        "dir(tuple)"
      ],
      "execution_count": 13,
      "outputs": [
        {
          "output_type": "execute_result",
          "data": {
            "text/plain": [
              "['__add__',\n",
              " '__class__',\n",
              " '__contains__',\n",
              " '__delattr__',\n",
              " '__dir__',\n",
              " '__doc__',\n",
              " '__eq__',\n",
              " '__format__',\n",
              " '__ge__',\n",
              " '__getattribute__',\n",
              " '__getitem__',\n",
              " '__getnewargs__',\n",
              " '__gt__',\n",
              " '__hash__',\n",
              " '__init__',\n",
              " '__init_subclass__',\n",
              " '__iter__',\n",
              " '__le__',\n",
              " '__len__',\n",
              " '__lt__',\n",
              " '__mul__',\n",
              " '__ne__',\n",
              " '__new__',\n",
              " '__reduce__',\n",
              " '__reduce_ex__',\n",
              " '__repr__',\n",
              " '__rmul__',\n",
              " '__setattr__',\n",
              " '__sizeof__',\n",
              " '__str__',\n",
              " '__subclasshook__',\n",
              " 'count',\n",
              " 'index']"
            ]
          },
          "metadata": {},
          "execution_count": 13
        }
      ]
    },
    {
      "cell_type": "markdown",
      "metadata": {
        "id": "qVSu7rx923uF"
      },
      "source": [
        "# Diccionarios\n",
        "### Características de los diccionarios\n",
        "\n",
        "- Agrupan datos pero de forma no lineal.\n",
        "- Se declaran con:\n",
        "    - { }\n",
        "    - dict()\n",
        "- Formato por pares del tipo llave: valor , donde:\n",
        "    - Llave es de tipo string (Siempre)\n",
        "    - Valor puede ser de cualquier tipo de datos, incluyendo los diccionarios.\n",
        "- Se seleccionan con la llave de la forma: [\"id_llave\"]\n",
        "- Son mutables.\n",
        "- Son anidables.\n",
        "- Son equivalentes al tipo de dato JSON del lenguaje JavaScript (JS)"
      ]
    },
    {
      "cell_type": "code",
      "metadata": {
        "colab": {
          "base_uri": "https://localhost:8080/"
        },
        "id": "SrzJMFNL428Y",
        "outputId": "a4d64e7b-669d-4b08-9d9d-3760d95e787f"
      },
      "source": [
        "alumno = {\"nombre\" : \"José\"}\n",
        "print(alumno)\n",
        "print(alumno[\"nombre\"])\n",
        "alumno = {\"nombre\":\"José\" , \"nc\":\"2129229292\" , \"edad\":18}\n",
        "print(\"Edad del alumno =\" , alumno[\"edad\"])\n",
        "print(alumno[\"nombre\"].upper())\n",
        "print(alumno)\n",
        "\n",
        "print(\"Alumno 2:\")\n",
        "alumno2 = dict() # { }\n",
        "alumno2[\"nombre\"] = \"jose\"\n",
        "print(alumno2)\n",
        "alumno2[\"nc\"] = \"2129229292\"\n",
        "alumno2[\"edad\"] = 18\n",
        "print(alumno2)\n",
        "alumno2[\"edad\"] "
      ],
      "execution_count": 18,
      "outputs": [
        {
          "output_type": "stream",
          "name": "stdout",
          "text": [
            "{'nombre': 'José'}\n",
            "José\n",
            "Edad del alumno = 18\n",
            "JOSÉ\n",
            "{'nombre': 'José', 'nc': '2129229292', 'edad': 18}\n",
            "Alumno 2:\n",
            "{'nombre': 'jose'}\n",
            "{'nombre': 'jose', 'nc': '2129229292', 'edad': 18}\n"
          ]
        }
      ]
    },
    {
      "cell_type": "code",
      "metadata": {
        "colab": {
          "base_uri": "https://localhost:8080/"
        },
        "id": "fofQ1niL8QHJ",
        "outputId": "cb7e8cb7-bb2f-4fec-b852-75a53cea611b"
      },
      "source": [
        "cliente = {\"id\":\"CT2121\" ,\n",
        "           \"nombre\":\"José Pedroza Rosales\" ,\n",
        "           \"telefonos\":\"casa=554456565 cel=0445567767\"}\n",
        "\n",
        "print(cliente)\n",
        "cliente = {\"id\":\"CT2121\" ,\n",
        "           \"nombre\" : {\n",
        "               \"nombres\" : [\"José\"],\n",
        "               \"paterno\" : \"Pedroza\",\n",
        "               \"materno\" : \"Rosales\"\n",
        "           } , \n",
        "           \"telefonos\" : {\n",
        "               \"casa\" : \"5566324234\",\n",
        "               \"trabajo\":\"554433232\",\n",
        "               \"celular\":\"04455234234\"\n",
        "           } ,\n",
        "           \"productos\":{\n",
        "               \"ahorro\":{\"numero_cuenta\":\"7788\" , \"ahorro\": 2500.5},\n",
        "               \"tarjetas\":[\n",
        "                           {\"tipo\":\"debito\",\"saldo\" :10000.5},\n",
        "                           {\"tipo\":\"credito preferente\",\"limite\":250000.5},\n",
        "                           {\"tipo\":\"lite\" , \"limite\":15000.5}\n",
        "               ]\n",
        "           },\n",
        "           \"direccion\":{\n",
        "               \"calle\":\"Av. central\",\n",
        "               \"numero\":1245,\n",
        "               \"colonia\":\"Impulsora\",\n",
        "               \"delegacion\":\"neza\",\n",
        "               \"estado\":{\n",
        "                          \"claver\":15,\n",
        "                         \"nombre_corto\":\"EdoMex\", \n",
        "                         \"nombre\":\"Estado de México\"\n",
        "                         }\n",
        "           }\n",
        "                \n",
        "           }\n",
        "print(cliente[\"telefonos\"][\"casa\"])\n",
        "print(cliente)\n",
        "print(cliente[\"productos\"][\"ahorro\"][\"ahorro\"])\n",
        "print(cliente[\"productos\"][\"tarjetas\"][2][\"limite\"])\n",
        "print(cliente[\"direccion\"][\"estado\"][\"nombre\"].upper())\n"
      ],
      "execution_count": 29,
      "outputs": [
        {
          "output_type": "stream",
          "name": "stdout",
          "text": [
            "{'id': 'CT2121', 'nombre': 'José Pedroza Rosales', 'telefonos': 'casa=554456565 cel=0445567767'}\n",
            "5566324234\n",
            "{'id': 'CT2121', 'nombre': {'nombres': ['José'], 'paterno': 'Pedroza', 'materno': 'Rosales'}, 'telefonos': {'casa': '5566324234', 'trabajo': '554433232', 'celular': '04455234234'}, 'productos': {'ahorro': {'numero_cuenta': '7788', 'ahorro': 2500.5}, 'tarjetas': [{'tipo': 'debito', 'saldo': 10000.5}, {'tipo': 'credito preferente', 'limite': 250000.5}, {'tipo': 'lite', 'limite': 15000.5}]}, 'direccion': {'calle': 'Av. central', 'numero': 1245, 'colonia': 'Impulsora', 'delegacion': 'neza', 'estado': {'claver': 15, 'nombre_corto': 'EdoMex', 'nombre': 'Estado de México'}}}\n",
            "2500.5\n",
            "15000.5\n",
            "ESTADO DE MÉXICO\n"
          ]
        }
      ]
    }
  ]
}