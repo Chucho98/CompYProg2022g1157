{
  "nbformat": 4,
  "nbformat_minor": 0,
  "metadata": {
    "colab": {
      "name": "Fundamentos2_CyP.ipynb",
      "provenance": [],
      "collapsed_sections": [],
      "authorship_tag": "ABX9TyN73ENgqCVzNQH1VDdM4pkQ",
      "include_colab_link": true
    },
    "kernelspec": {
      "name": "python3",
      "display_name": "Python 3"
    },
    "language_info": {
      "name": "python"
    }
  },
  "cells": [
    {
      "cell_type": "markdown",
      "metadata": {
        "id": "view-in-github",
        "colab_type": "text"
      },
      "source": [
        "<a href=\"https://colab.research.google.com/github/Chucho98/CompYProg2022g1157/blob/main/Fundamentos2_CyP.ipynb\" target=\"_parent\"><img src=\"https://colab.research.google.com/assets/colab-badge.svg\" alt=\"Open In Colab\"/></a>"
      ]
    },
    {
      "cell_type": "markdown",
      "metadata": {
        "id": "8IdbTyPRZupm"
      },
      "source": [
        "#4 de Noviembre 2021"
      ]
    },
    {
      "cell_type": "markdown",
      "metadata": {
        "id": "x_M-ahHoFbqQ"
      },
      "source": [
        "#Tipos de datos estructurados de Python\n",
        "\n",
        "1. Listas\n",
        "2. Tuplas\n",
        "3. Diccionarios\n",
        "4. Conjuntos (opcional)"
      ]
    },
    {
      "cell_type": "markdown",
      "metadata": {
        "id": "WKM879siFueO"
      },
      "source": [
        "#Listas \n",
        "\n",
        "- Tipo de dato que agrupa variables o valores\n",
        "- Estructura secuencial (undexados empezando por 0)\n",
        "- Se declara de dos formas\n",
        "    - usando [ ]\n",
        "    - usando list( )\n",
        "- Puede contener tipos de datos diversos (En otros lenguajes de programación eso no es posible de forma directa)\n",
        "- Los elementos internos se seleccionan con [ ]\n",
        "- Soporta slicing\n",
        "- Son mutables"
      ]
    },
    {
      "cell_type": "code",
      "metadata": {
        "colab": {
          "base_uri": "https://localhost:8080/"
        },
        "id": "ohvkFU_tFXEY",
        "outputId": "f83035cb-86bb-42ec-fa31-3c43c258eae0"
      },
      "source": [
        "numeros = [10, 5, 2, 3, 1]\n",
        "print(numeros)\n",
        "\n",
        "numeros2 = list()\n",
        "numeros2.append(10)\n",
        "numeros2.append(5)\n",
        "numeros2.append(3)\n",
        "numeros2.append(2)\n",
        "numeros2.append(1)\n",
        "print(numeros2)\n",
        "numeros[2] = 20\n",
        "print(numeros)\n",
        "numeros[4] = 33"
      ],
      "execution_count": null,
      "outputs": [
        {
          "output_type": "stream",
          "name": "stdout",
          "text": [
            "[10, 5, 2, 3, 1]\n",
            "[10, 5, 3, 2, 1]\n",
            "[10, 5, 20, 3, 1]\n"
          ]
        }
      ]
    },
    {
      "cell_type": "code",
      "metadata": {
        "colab": {
          "base_uri": "https://localhost:8080/"
        },
        "id": "87-0TXUGIjE4",
        "outputId": "a7b9b83e-7b57-4566-a6c1-5c0a71daeb1a"
      },
      "source": [
        "# Tipos diversos\n",
        "\n",
        "cosas = [12 , 2 , True , \"José\" , 1.57 , [\"pera\" , \"kiwi\" , \"uva\"]]\n",
        "print(cosas)\n",
        "print(cosas[1])\n",
        "print(cosas[4])\n",
        "print(cosas[5])\n",
        "print(cosas[5][1])\n",
        "print(cosas[3][1:3:])\n",
        "cosas[3] = cosas[3].upper()\n",
        "print(cosas)"
      ],
      "execution_count": null,
      "outputs": [
        {
          "output_type": "stream",
          "name": "stdout",
          "text": [
            "[12, 2, True, 'José', 1.57, ['pera', 'kiwi', 'uva']]\n",
            "2\n",
            "1.57\n",
            "['pera', 'kiwi', 'uva']\n",
            "kiwi\n",
            "os\n",
            "[12, 2, True, 'JOSÉ', 1.57, ['pera', 'kiwi', 'uva']]\n"
          ]
        }
      ]
    },
    {
      "cell_type": "code",
      "metadata": {
        "colab": {
          "base_uri": "https://localhost:8080/"
        },
        "id": "0S5YzwwGMvL_",
        "outputId": "911dd06b-0461-4895-e8e0-a8a071825fc8"
      },
      "source": [
        "numeros = [1,2,3,4,5,6,7,8,9,10.11]\n",
        "print(numeros)\n",
        "# Slicing\n",
        "# 1.- 4 al 8??\n",
        "print(numeros[3:8])\n",
        "# 2.- [9,10]\n",
        "print(numeros[8:10:])\n",
        "print(numeros[-3:-1:])\n",
        "# 3.- Imprimir la lista en orden inverso [11,10,9,etc., 1]\n",
        "print(numeros[ : : -1])"
      ],
      "execution_count": null,
      "outputs": [
        {
          "output_type": "stream",
          "name": "stdout",
          "text": [
            "[1, 2, 3, 4, 5, 6, 7, 8, 9, 10.11]\n",
            "[9, 10.11]\n",
            "[8, 9]\n"
          ]
        }
      ]
    },
    {
      "cell_type": "code",
      "metadata": {
        "colab": {
          "base_uri": "https://localhost:8080/"
        },
        "id": "iBfeBr1DQKFf",
        "outputId": "4e2027cc-b7e3-4cb5-9b7e-71741e65a76e"
      },
      "source": [
        "#Crear una lista con un generador\n",
        "numeros = [ x*3 for x in range(101)]\n",
        "print(numeros)"
      ],
      "execution_count": null,
      "outputs": [
        {
          "output_type": "stream",
          "name": "stdout",
          "text": [
            "[0, 3, 6, 9, 12, 15, 18, 21, 24, 27, 30, 33, 36, 39, 42, 45, 48, 51, 54, 57, 60, 63, 66, 69, 72, 75, 78, 81, 84, 87, 90, 93, 96, 99, 102, 105, 108, 111, 114, 117, 120, 123, 126, 129, 132, 135, 138, 141, 144, 147, 150, 153, 156, 159, 162, 165, 168, 171, 174, 177, 180, 183, 186, 189, 192, 195, 198, 201, 204, 207, 210, 213, 216, 219, 222, 225, 228, 231, 234, 237, 240, 243, 246, 249, 252, 255, 258, 261, 264, 267, 270, 273, 276, 279, 282, 285, 288, 291, 294, 297, 300]\n"
          ]
        }
      ]
    },
    {
      "cell_type": "markdown",
      "metadata": {
        "id": "QR68kb0aQzwb"
      },
      "source": [
        "#Funcion range()\n",
        "tiene los mismos componentes que slicing\n",
        "ini, stop, incremento\n",
        "range(1, 101, 1)\n"
      ]
    },
    {
      "cell_type": "code",
      "metadata": {
        "colab": {
          "base_uri": "https://localhost:8080/"
        },
        "id": "7kHlTfrLRAsb",
        "outputId": "606fc9a6-1d24-48a4-d16e-a8f2913d4dfe"
      },
      "source": [
        "numeros = [ x for x in range(50, 101, 5)]\n",
        "print(numeros)"
      ],
      "execution_count": null,
      "outputs": [
        {
          "output_type": "stream",
          "name": "stdout",
          "text": [
            "[50, 55, 60, 65, 70, 75, 80, 85, 90, 95, 100]\n"
          ]
        }
      ]
    },
    {
      "cell_type": "code",
      "metadata": {
        "colab": {
          "base_uri": "https://localhost:8080/"
        },
        "id": "Gqoqs5dQSj1t",
        "outputId": "b7fac06d-e787-4a5a-b041-574ec300a91b"
      },
      "source": [
        "numeros = [4,1,15,8,22,34,50]\n",
        "print(numeros)\n",
        "numeros.append(99)\n",
        "print(numeros)\n",
        "#Numeros.clear()\n",
        "numeros = []\n",
        "print(numeros)\n",
        "\n",
        "frutas = [\"uvas\" , \"Kiwi\" , \"manzana\" ]\n",
        "copia = frutas\n",
        "print( frutas )\n",
        "print( copia )\n",
        "frutas.append(\"Naranja\")\n",
        "print( frutas )\n",
        "print( copia )\n",
        "\n",
        "colores = [\"rojo\" , \"azul\" , \"blanco\"]\n",
        "copia2 = colores.copy()\n",
        "print(colores)\n",
        "print(copia2)\n",
        "colores.append(\"verde\")\n",
        "print(colores)\n",
        "print(copia2)\n",
        "\n",
        "print(\"Numero de veces que aparece el 15=\" , numeros.count(15))\n",
        "\n",
        "#Extend \n",
        "\n",
        "nombres = [\"Jose\" , \"Pedro\" , \"karina\"]\n",
        "otrosNombres = [\"Josue\",\"Diana\",\"Dalia\"]\n",
        "\n",
        "print(nombres)\n",
        "print(otrosNombres)\n",
        "nombres = nombres + otrosNombres\n",
        "print(nombres)\n",
        "print(otrosNombres)\n",
        "\n",
        "#Lo mismo con el método extend\n",
        "otrosNombres.extend([\"Jesús\",\"María\",\"José\"])\n",
        "print(otrosNombres)\n",
        "print(\"Jesús esta en la posición:\", otrosNombres.index(\"Jesús\"))\n",
        "otrosNombres.insert(4, \"Espiritu santo\")\n",
        "print(otrosNombres)\n",
        "\n",
        "#pop\n",
        "resultado = otrosNombres.pop() # almacena el ultimo resultado en resultado\n",
        "print(otrosNombres)\n",
        "print(resultado)"
      ],
      "execution_count": null,
      "outputs": [
        {
          "output_type": "stream",
          "name": "stdout",
          "text": [
            "[4, 1, 15, 8, 22, 34, 50]\n",
            "[4, 1, 15, 8, 22, 34, 50, 99]\n",
            "[]\n",
            "['uvas', 'Kiwi', 'manzana']\n",
            "['uvas', 'Kiwi', 'manzana']\n",
            "['uvas', 'Kiwi', 'manzana', 'Naranja']\n",
            "['uvas', 'Kiwi', 'manzana', 'Naranja']\n",
            "['rojo', 'azul', 'blanco']\n",
            "['rojo', 'azul', 'blanco']\n",
            "['rojo', 'azul', 'blanco', 'verde']\n",
            "['rojo', 'azul', 'blanco']\n",
            "Numero de veces que aparece el 15= 0\n",
            "['Jose', 'Pedro', 'karina']\n",
            "['Josue', 'Diana', 'Dalia']\n",
            "['Jose', 'Pedro', 'karina', 'Josue', 'Diana', 'Dalia']\n",
            "['Josue', 'Diana', 'Dalia']\n",
            "['Josue', 'Diana', 'Dalia', 'Jesús', 'María', 'José']\n",
            "Jesús esta en la posición: 3\n",
            "['Josue', 'Diana', 'Dalia', 'Jesús', 'Espiritu santo', 'María', 'José']\n",
            "['Josue', 'Diana', 'Dalia', 'Jesús', 'Espiritu santo', 'María']\n",
            "José\n"
          ]
        }
      ]
    },
    {
      "cell_type": "markdown",
      "metadata": {
        "id": "Sqdt7JFMwAvO"
      },
      "source": [
        "# 9 de Noviembre 2021"
      ]
    },
    {
      "cell_type": "markdown",
      "metadata": {
        "id": "gatbYfdzwFoh"
      },
      "source": [
        "# Tuplas\n",
        "\n",
        "###Caracteristicas de las tuplas\n",
        "\n",
        "- Datos agrupados.\n",
        "- Se declara usando: \n",
        "    - ( )\n",
        "    - tuple( )\n",
        "- Estructura secuencial, indexada desde 0 a partir de 0.\n",
        "_ Pueden tener de 0 a n elementos.\n",
        "- No son mutables (No se puede: eliminar y/o cambiar).\n",
        "- Son buenas para almacenar información de consulta.\n",
        "- Puede almacenar informacion de diferentes tipos de datos.\n",
        "- Pueden estar anidadas.\n",
        "- Tienen métodos útiles."
      ]
    },
    {
      "cell_type": "code",
      "metadata": {
        "colab": {
          "base_uri": "https://localhost:8080/"
        },
        "id": "XmmGGKDzwEzI",
        "outputId": "df0c2228-afae-4e1e-9ffc-fea1d6401514"
      },
      "source": [
        "info = (\"juan23\", \"dios1234\", \"123.232.1.12\")\n",
        "print(info)\n",
        "print(info[1])\n",
        "#info[1] = \"patito23\"\n",
        "\n",
        "numeros = (0,1,2,3,4,5,6,7,8,9,10,11,12,13,14,15)\n",
        "print(numeros)\n",
        "print(numeros[5:11])\n",
        "\n",
        "cosas = (info , numeros)\n",
        "print(cosas)\n",
        "print(cosas[1][5:11])\n",
        "print(cosas[0][2][4:7])\n",
        "print(cosas[0][2][-8:-5])"
      ],
      "execution_count": null,
      "outputs": [
        {
          "output_type": "stream",
          "name": "stdout",
          "text": [
            "('juan23', 'dios1234', '123.232.1.12')\n",
            "dios1234\n",
            "(0, 1, 2, 3, 4, 5, 6, 7, 8, 9, 10, 11, 12, 13, 14, 15)\n",
            "(5, 6, 7, 8, 9, 10)\n",
            "(('juan23', 'dios1234', '123.232.1.12'), (0, 1, 2, 3, 4, 5, 6, 7, 8, 9, 10, 11, 12, 13, 14, 15))\n",
            "(5, 6, 7, 8, 9, 10)\n",
            "232\n",
            "232\n"
          ]
        }
      ]
    },
    {
      "cell_type": "markdown",
      "metadata": {
        "id": "pafCIDBd0nGF"
      },
      "source": [
        "# Métodos de la tuplas\n",
        "\n",
        "Son los mismos de las listas pero los que no invlucren mutabilidad."
      ]
    },
    {
      "cell_type": "code",
      "metadata": {
        "colab": {
          "base_uri": "https://localhost:8080/"
        },
        "id": "VFqsiOdbyZQs",
        "outputId": "6b3d3d80-d3a9-4114-dee8-76d84f419c0e"
      },
      "source": [
        "dir(tuple)"
      ],
      "execution_count": null,
      "outputs": [
        {
          "output_type": "execute_result",
          "data": {
            "text/plain": [
              "['__add__',\n",
              " '__class__',\n",
              " '__contains__',\n",
              " '__delattr__',\n",
              " '__dir__',\n",
              " '__doc__',\n",
              " '__eq__',\n",
              " '__format__',\n",
              " '__ge__',\n",
              " '__getattribute__',\n",
              " '__getitem__',\n",
              " '__getnewargs__',\n",
              " '__gt__',\n",
              " '__hash__',\n",
              " '__init__',\n",
              " '__init_subclass__',\n",
              " '__iter__',\n",
              " '__le__',\n",
              " '__len__',\n",
              " '__lt__',\n",
              " '__mul__',\n",
              " '__ne__',\n",
              " '__new__',\n",
              " '__reduce__',\n",
              " '__reduce_ex__',\n",
              " '__repr__',\n",
              " '__rmul__',\n",
              " '__setattr__',\n",
              " '__sizeof__',\n",
              " '__str__',\n",
              " '__subclasshook__',\n",
              " 'count',\n",
              " 'index']"
            ]
          },
          "metadata": {},
          "execution_count": 13
        }
      ]
    },
    {
      "cell_type": "markdown",
      "metadata": {
        "id": "qVSu7rx923uF"
      },
      "source": [
        "# Diccionarios\n",
        "### Características de los diccionarios\n",
        "\n",
        "- Agrupan datos pero de forma no lineal.\n",
        "- Se declaran con:\n",
        "    - { }\n",
        "    - dict()\n",
        "- Formato por pares del tipo llave: valor , donde:\n",
        "    - Llave es de tipo string (Siempre)\n",
        "    - Valor puede ser de cualquier tipo de datos, incluyendo los diccionarios.\n",
        "- Se seleccionan con la llave de la forma: [\"id_llave\"]\n",
        "- Son mutables.\n",
        "- Son anidables.\n",
        "- Son equivalentes al tipo de dato JSON del lenguaje JavaScript (JS)"
      ]
    },
    {
      "cell_type": "code",
      "metadata": {
        "colab": {
          "base_uri": "https://localhost:8080/"
        },
        "id": "SrzJMFNL428Y",
        "outputId": "a4d64e7b-669d-4b08-9d9d-3760d95e787f"
      },
      "source": [
        "alumno = {\"nombre\" : \"José\"}\n",
        "print(alumno)\n",
        "print(alumno[\"nombre\"])\n",
        "alumno = {\"nombre\":\"José\" , \"nc\":\"2129229292\" , \"edad\":18}\n",
        "print(\"Edad del alumno =\" , alumno[\"edad\"])\n",
        "print(alumno[\"nombre\"].upper())\n",
        "print(alumno)\n",
        "\n",
        "print(\"Alumno 2:\")\n",
        "alumno2 = dict() # { }\n",
        "alumno2[\"nombre\"] = \"jose\"\n",
        "print(alumno2)\n",
        "alumno2[\"nc\"] = \"2129229292\"\n",
        "alumno2[\"edad\"] = 18\n",
        "print(alumno2)\n",
        "alumno2[\"edad\"] "
      ],
      "execution_count": null,
      "outputs": [
        {
          "output_type": "stream",
          "name": "stdout",
          "text": [
            "{'nombre': 'José'}\n",
            "José\n",
            "Edad del alumno = 18\n",
            "JOSÉ\n",
            "{'nombre': 'José', 'nc': '2129229292', 'edad': 18}\n",
            "Alumno 2:\n",
            "{'nombre': 'jose'}\n",
            "{'nombre': 'jose', 'nc': '2129229292', 'edad': 18}\n"
          ]
        }
      ]
    },
    {
      "cell_type": "code",
      "metadata": {
        "colab": {
          "base_uri": "https://localhost:8080/"
        },
        "id": "fofQ1niL8QHJ",
        "outputId": "643bdd3d-6cf0-4b15-b3d9-f765aef592a9"
      },
      "source": [
        "cliente = {\"id\":\"CT2121\" ,\n",
        "           \"nombre\":\"José Pedroza Rosales\" ,\n",
        "           \"telefonos\":\"casa=554456565 cel=0445567767\"}\n",
        "\n",
        "print(cliente)\n",
        "cliente = {\"id\":\"CT2121\" ,\n",
        "           \"nombre\" : {\n",
        "               \"nombres\" : [\"José\"],\n",
        "               \"paterno\" : \"Pedroza\",\n",
        "               \"materno\" : \"Rosales\"\n",
        "           } , \n",
        "           \"telefonos\" : {\n",
        "               \"casa\" : \"5566324234\",\n",
        "               \"trabajo\":\"554433232\",\n",
        "               \"celular\":\"04455234234\"\n",
        "           } ,\n",
        "           \"productos\":{\n",
        "               \"ahorro\":{\"numero_cuenta\":\"7788\" , \"ahorro\": 2500.5},\n",
        "               \"tarjetas\":[\n",
        "                           {\"tipo\":\"debito\",\"saldo\" :10000.5},\n",
        "                           {\"tipo\":\"credito preferente\",\"limite\":250000.5},\n",
        "                           {\"tipo\":\"lite\" , \"limite\":15000.5}\n",
        "               ]\n",
        "           },\n",
        "           \"direccion\":{\n",
        "               \"calle\":\"Av. central\",\n",
        "               \"numero\":1245,\n",
        "               \"colonia\":\"Impulsora\",\n",
        "               \"delegacion\":\"neza\",\n",
        "               \"estado\":{\n",
        "                          \"claver\":15,\n",
        "                         \"nombre_corto\":\"EdoMex\", \n",
        "                         \"nombre\":\"Estado de México\"\n",
        "                         }\n",
        "           }\n",
        "                \n",
        "           }\n",
        "print(cliente[\"telefonos\"][\"casa\"])\n",
        "print(cliente)\n",
        "print(cliente[\"productos\"][\"ahorro\"][\"ahorro\"])\n",
        "print(cliente[\"productos\"][\"tarjetas\"][2][\"limite\"])\n",
        "print(cliente[\"direccion\"][\"estado\"][\"nombre\"].upper())\n",
        "cliente[\"productos\"][\"ahorro\"][\"ahorro\"]-=1500.0\n",
        "print(cliente[\"productos\"])\n"
      ],
      "execution_count": null,
      "outputs": [
        {
          "output_type": "stream",
          "name": "stdout",
          "text": [
            "{'id': 'CT2121', 'nombre': 'José Pedroza Rosales', 'telefonos': 'casa=554456565 cel=0445567767'}\n",
            "5566324234\n",
            "{'id': 'CT2121', 'nombre': {'nombres': ['José'], 'paterno': 'Pedroza', 'materno': 'Rosales'}, 'telefonos': {'casa': '5566324234', 'trabajo': '554433232', 'celular': '04455234234'}, 'productos': {'ahorro': {'numero_cuenta': '7788', 'ahorro': 2500.5}, 'tarjetas': [{'tipo': 'debito', 'saldo': 10000.5}, {'tipo': 'credito preferente', 'limite': 250000.5}, {'tipo': 'lite', 'limite': 15000.5}]}, 'direccion': {'calle': 'Av. central', 'numero': 1245, 'colonia': 'Impulsora', 'delegacion': 'neza', 'estado': {'claver': 15, 'nombre_corto': 'EdoMex', 'nombre': 'Estado de México'}}}\n",
            "2500.5\n",
            "15000.5\n",
            "ESTADO DE MÉXICO\n",
            "{'ahorro': {'numero_cuenta': '7788', 'ahorro': 1000.5}, 'tarjetas': [{'tipo': 'debito', 'saldo': 10000.5}, {'tipo': 'credito preferente', 'limite': 250000.5}, {'tipo': 'lite', 'limite': 15000.5}]}\n"
          ]
        }
      ]
    },
    {
      "cell_type": "markdown",
      "metadata": {
        "id": "Sier6CvVDfTD"
      },
      "source": [
        "# 11 de Noviembre 2021"
      ]
    },
    {
      "cell_type": "code",
      "metadata": {
        "colab": {
          "base_uri": "https://localhost:8080/"
        },
        "id": "RA4r_VO0DsTL",
        "outputId": "62e56f2f-f3c6-437e-8ea9-98c954b6a154"
      },
      "source": [
        "pelicula = {\"Pelicula\":\"Avengers\",\n",
        "            \"Dirección\":\"Anthony y Joe Russo\",\n",
        "            \"Producción\":\"Kevin Feige\",\n",
        "            \"Guion\":\"\tChristopher Markus y Stephen McFeely\",\n",
        "            \"Año\":\"2019\",\n",
        "            \"Protagonistas\":\"\tRobert Downey Jr., Chris Evans, Mark Ruffalo, Chris Hemsworth, Scarlett Johansson, Jeremy Renner, Don Cheadle, Paul Rudd, Brie Larson, Karen Gillan, Danai Gurira, Benedict Wong, Jon Favreau, Bradley Cooper, Gwyneth Paltrow, Josh Brolin\"}\n",
        "print(pelicula)"
      ],
      "execution_count": null,
      "outputs": [
        {
          "output_type": "stream",
          "name": "stdout",
          "text": [
            "{'Pelicula': 'Avengers', 'Dirección': 'Anthony y Joe Russo\\n', 'Producción': 'Kevin Feige', 'Guion': '\\tChristopher Markus y Stephen McFeely', 'Año': '2019', 'Protagonistas': '\\tRobert Downey Jr., Chris Evans, Mark Ruffalo, Chris Hemsworth, Scarlett Johansson, Jeremy Renner, Don Cheadle, Paul Rudd, Brie Larson, Karen Gillan, Danai Gurira, Benedict Wong, Jon Favreau, Bradley Cooper, Gwyneth Paltrow, Josh Brolin'}\n"
          ]
        }
      ]
    },
    {
      "cell_type": "markdown",
      "metadata": {
        "id": "snB9FamxPCU3"
      },
      "source": [
        "# Estructura \n",
        "Se puede crear cualquier tipo de algoritmo empleando solamente 3 estructuras de control:\n",
        "1. Secuencia:\n",
        "      - La representación de la memoria de programa (Arquitectura Von-Newman)\n",
        "2. Selección:\n",
        "      - Es la estructura de control que decide si un bloque de programa se ejecuta o no se ejecuta. Tambien permite seleccionar, ejecutar un bloque entre un conjunto de opciones. En resumen tenemos: Selección simple, selección con bifurcación y seleccion múltiple.\n",
        "\n",
        "3. Repetición:\n",
        "      - Este tipo de estructura nos permite automatizar la ejecución repetitiva de código mientras ciertas condiciones se cumpla, tenemos 3 variantes de esta estructura en todos los lenguajes de programación:\n",
        "      - Desde....hasta (estructura For)\n",
        "      - Haz mientras (estructura While)\n",
        "      - Haz y luego validas mientras (estructura Do-While)"
      ]
    },
    {
      "cell_type": "markdown",
      "metadata": {
        "id": "Y3zACAQxTdSo"
      },
      "source": [
        "# Seleccion simple\n",
        "-- Documentar, o poner notas \n",
        "\n",
        "\n",
        "la estrucura if\n",
        "\n",
        "```\n",
        "if <CONDICION> :\n",
        "    <Cuerpo del IF>\n",
        "``` \n",
        "**NOTA** Para establecer el cuerpo de una estructura d econtrol en Python se usan los tabuladores a la izq.\n",
        "\n",
        "En otros lenguajes de programación como java, C y C++... se usan llaves {}\n",
        "\n",
        "```\n",
        "int edad =0;\n",
        "print(\"Dame tu edad\");\n",
        "scanf(\"%i\" , &edad);\n",
        "if(edad >= 18){\n",
        "    printf(\"Eres mayor de edad\");\n",
        "}\n",
        "printf(\"Fin del programa\");\n",
        "```\n",
        "\n"
      ]
    },
    {
      "cell_type": "code",
      "metadata": {
        "colab": {
          "base_uri": "https://localhost:8080/"
        },
        "id": "wPj2C1N1S5_9",
        "outputId": "45d89cbb-206e-491b-845c-9c67e456a65a"
      },
      "source": [
        "edad = int(input(\"Dame tu edad:\"))\n",
        "print(f\"Tecleaste {edad} años\")\n",
        "if edad >= 18 :\n",
        "  print(\"Eres mayor de edad\")\n",
        "  print(\"Algo\")\n",
        "  print(\"Otra cosa\")\n",
        "print(\"Fin de programa\")"
      ],
      "execution_count": null,
      "outputs": [
        {
          "output_type": "stream",
          "name": "stdout",
          "text": [
            "Dame tu edad:18\n",
            "Tecleaste 18.0 años\n",
            "Eres mayor de edad\n",
            "Algo\n",
            "Otra cosa\n",
            "Fin de programa\n"
          ]
        }
      ]
    },
    {
      "cell_type": "code",
      "metadata": {
        "colab": {
          "base_uri": "https://localhost:8080/"
        },
        "id": "fUIbHq2oWcUT",
        "outputId": "5c1ad019-feb6-47cc-b4e8-e78f521ad654"
      },
      "source": [
        "CAL = float( input(\"Dame tu calificacion: \"))\n",
        "if CAL > 8 :\n",
        "    print (\"Aprobado\")\n",
        "print (\"Fin del programa\")"
      ],
      "execution_count": null,
      "outputs": [
        {
          "output_type": "stream",
          "name": "stdout",
          "text": [
            "Dame tu calificacion: 8.7\n",
            "Aprobado\n",
            "Fin del programa\n"
          ]
        }
      ]
    },
    {
      "cell_type": "code",
      "metadata": {
        "colab": {
          "base_uri": "https://localhost:8080/"
        },
        "id": "NYrzzXSaXgDe",
        "outputId": "05158592-b7f4-426b-d203-4c7fef34e165"
      },
      "source": [
        "SUE = float(input(\"Dame tu sueldo: \"))\n",
        "if SUE < 1000 :\n",
        "  AUM = SUE * 0.15\n",
        "  NSUE = SUE + AUM\n",
        "  print(\"Tu sueldo es:\", NSUE)\n",
        "print(\"fin\")"
      ],
      "execution_count": null,
      "outputs": [
        {
          "output_type": "stream",
          "name": "stdout",
          "text": [
            "Dame tu sueldo: 875.50\n",
            "Tu sueldo es: 1006.825\n",
            "fin\n"
          ]
        }
      ]
    },
    {
      "cell_type": "markdown",
      "metadata": {
        "id": "dSVLF0AlaS26"
      },
      "source": [
        "#Tarea\n",
        "Leer apartado 2.3 y hacer ejercicios 2.3 y 2.4"
      ]
    },
    {
      "cell_type": "markdown",
      "metadata": {
        "id": "ifljKXhoGvuF"
      },
      "source": [
        "#18 de Noviembre 2021"
      ]
    },
    {
      "cell_type": "markdown",
      "metadata": {
        "id": "9gKqH2spGzSr"
      },
      "source": [
        "# Estructura de selección con bifurcación (if-else)\n",
        "\n",
        "Esta estructura, selecciona una de dos opciones en ejecución, se ejecuta un bloque si la condicion se cumple o se ejecuta otro bloque si la condicion no se cumple (else).\n",
        "\n",
        "```\n",
        "if <condicion> :\n",
        "    <bloque de ejecución>\n",
        "else:\n",
        "    <nloque de ejecución alterno>\n",
        "``` "
      ]
    },
    {
      "cell_type": "code",
      "metadata": {
        "colab": {
          "base_uri": "https://localhost:8080/"
        },
        "id": "7eBCC7tXHjAR",
        "outputId": "e709dd16-518f-44a9-9cdf-f7573c6922e2"
      },
      "source": [
        "edad = int(input(\"Dame tu edad:\"))\n",
        "print(f\"Tecleaste {edad} años\" )\n",
        "if edad >= 18:\n",
        "    print(\"Eres mayor de edad, ten tú cheve\")\n",
        "else:\n",
        "    print(\"Eres menor de edad, ten tú Boing de mango\")\n",
        "print(\"Fin del programa\")\n",
        "\n"
      ],
      "execution_count": 5,
      "outputs": [
        {
          "output_type": "stream",
          "name": "stdout",
          "text": [
            "Dame tu edad:15\n",
            "Tecleaste 15 años\n",
            "Eres menor de edad, ten tú Boing de mango\n",
            "Fin del programa\n"
          ]
        }
      ]
    },
    {
      "cell_type": "code",
      "metadata": {
        "colab": {
          "base_uri": "https://localhost:8080/"
        },
        "id": "-MjIT4gpJXXj",
        "outputId": "de5c7184-cf19-439f-a154-7fad6711e776"
      },
      "source": [
        "# cheve en 36 pesos \n",
        "edad = int(input(\"Dame tu edad:\"))\n",
        "dinero = float(input(\"Dame tu cantidad de dinero:\"))\n",
        "if edad >= 18:\n",
        "    if dinero >=35:\n",
        "        print(\"Eres mayor de edad y tienes dinero, ten tu cheve\")\n",
        "    else:\n",
        "        print(\"No tienes suficiente dinero\")\n",
        "elif dinero >= 36:\n",
        "    print(\"No tienes la edad para comprar cheves\")\n",
        "else:\n",
        "    print(\"Eres menor de edad y no tienes dinero, vete a jugar roblox\")\n",
        "print(\"Fin del programa\")\n"
      ],
      "execution_count": 22,
      "outputs": [
        {
          "output_type": "stream",
          "name": "stdout",
          "text": [
            "Dame tu edad:17\n",
            "Dame tu cantidad de dinero:20\n",
            "Eres menor de edad y no tienes dinero, vete a jugar roblox\n",
            "Fin del programa\n"
          ]
        }
      ]
    },
    {
      "cell_type": "code",
      "metadata": {
        "colab": {
          "base_uri": "https://localhost:8080/"
        },
        "id": "J-bTF7bFPveO",
        "outputId": "b769ce9b-1e55-435b-b986-ce994846b141"
      },
      "source": [
        "#Ejercicio 2.4\n",
        "SUE = float(input(\"Escribe el sueldo: \"))\n",
        "if SUE < 1000 :\n",
        "    NSUE = SUE* 1.15\n",
        "else:\n",
        "    NSUE = SUE* 1.12\n",
        "print(f\"Tu sueldo es: {NSUE}\")\n"
      ],
      "execution_count": 32,
      "outputs": [
        {
          "output_type": "stream",
          "name": "stdout",
          "text": [
            "Escribe el sueldo: 1000\n",
            "Tu sueldo es: 1120.0\n"
          ]
        }
      ]
    },
    {
      "cell_type": "markdown",
      "metadata": {
        "id": "BYoHHhiYSMAl"
      },
      "source": [
        "# Ejercicio if-else\n",
        "### Hacer un programa que solicite el día de la semana en un valor numerico entero del 1 al 7 (Avisarle al usuario si proporcionó un valor fuera del rango).\n",
        "\n",
        "###Posteriormente imprimirá el dia de la semana correspondiente al número capturado\n",
        "\n",
        "1. Lunes\n",
        "2. Martes\n",
        "...\n",
        "7. Domingo\n"
      ]
    },
    {
      "cell_type": "code",
      "metadata": {
        "colab": {
          "base_uri": "https://localhost:8080/"
        },
        "id": "lpYlIhfwSYyT",
        "outputId": "d6310b9a-8f87-4423-e335-47ae9eb0011c"
      },
      "source": [
        "dia = int(input(\"Ingresa un número entre 1 y 7 \"))\n",
        "print(f\"Escribiste el número: {dia}\")\n",
        "if dia >=1 and dia <=7:\n",
        "    if dia == 1:\n",
        "        print(\"El día de la semana es lunes\")\n",
        "    elif dia == 2:\n",
        "        print(\"El día de la semana es Martes\")\n",
        "    elif dia == 3:\n",
        "        print(\"El día de la semana es Miercoles\")\n",
        "    elif dia == 4:\n",
        "        print(\"El día de la semana es Jueves\")\n",
        "    elif dia == 5:\n",
        "        print(\"El día de la semana es Viernes\")\n",
        "    elif dia == 6:\n",
        "        print(\"El día de la semana es Sabado\")\n",
        "    elif dia == 7:\n",
        "        print(\"El día de la semana es Domingo\")\n",
        "else:\n",
        "    print(\"Debe de ser un numero entre 1 y 7\")\n"
      ],
      "execution_count": 46,
      "outputs": [
        {
          "output_type": "stream",
          "name": "stdout",
          "text": [
            "Ingresa un número entre 1 y 7 2\n",
            "Escribiste el número: 2\n",
            "El día de la semana es Martes\n"
          ]
        }
      ]
    },
    {
      "cell_type": "code",
      "metadata": {
        "id": "C-C7ig-gZjDD"
      },
      "source": [
        "# Hacer un programa que pida 2 números enteros y que imprima en pantalla lo siguiente:\n",
        "#1. Cual de ellos es el mayor\n",
        "#2. Cual de esllos el el menor\n",
        "#o en su defecto\n",
        "#imprimir que los valores son iguales\n",
        "\n",
        "#Hacer un programa que solicite 3 números enteros diferentes entre si \n",
        "#y que imprima cual de los 3 es el mayor\n",
        "\n",
        "#Lo mismo pero cuañ es el menor\n",
        "\n",
        "#Hacer un programa que solicite 4 números enteros diferentes entre si e imprima\n",
        "#cual de ellos es el menor y cual el mayor\n"
      ],
      "execution_count": null,
      "outputs": []
    },
    {
      "cell_type": "markdown",
      "metadata": {
        "id": "-7wH-_Gta8Nv"
      },
      "source": [
        "# Selección múltiple (switch)\n",
        "En python no existe la estructura de selección switch, en su lugar se emplea la palabra reservada: \n",
        "\n",
        "##elif <condicion>: \n",
        "\n",
        "Por ejemplo en el lenguaje C y Java seria de la forma:\n",
        "\n",
        "``` \n"
      ]
    },
    {
      "cell_type": "code",
      "metadata": {
        "colab": {
          "base_uri": "https://localhost:8080/"
        },
        "id": "Zitk6Dx-c7ZQ",
        "outputId": "158e5f80-0e1a-4329-fbeb-60fff8110677"
      },
      "source": [
        "#ejemplo 2.7\n",
        "\n",
        "NUM = int(input(\"Dame un número entre 1 y 3:\"))\n",
        "V = float(input(\"Dame un valor float:\"))\n",
        "VAL = 0\n",
        "if NUM == 1:\n",
        "    VAL = 100 * V\n",
        "elif NUM == 2:\n",
        "    VAL = 100 ** V\n",
        "elif NUM == 3:\n",
        "    VAL = 100/V\n",
        "else:\n",
        "    VAL = 0\n",
        "\n",
        "print(VAL)"
      ],
      "execution_count": 48,
      "outputs": [
        {
          "output_type": "stream",
          "name": "stdout",
          "text": [
            "Dame un número entre 1 y 3:2\n",
            "Dame un valor float:1\n",
            "100.0\n"
          ]
        }
      ]
    }
  ]
}