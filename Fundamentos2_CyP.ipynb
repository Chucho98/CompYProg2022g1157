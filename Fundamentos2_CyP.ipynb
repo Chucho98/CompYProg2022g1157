{
  "nbformat": 4,
  "nbformat_minor": 0,
  "metadata": {
    "colab": {
      "name": "Fundamentos2_CyP.ipynb",
      "provenance": [],
      "authorship_tag": "ABX9TyOxweTrN9NiA3liiwVpF5Kf",
      "include_colab_link": true
    },
    "kernelspec": {
      "name": "python3",
      "display_name": "Python 3"
    },
    "language_info": {
      "name": "python"
    }
  },
  "cells": [
    {
      "cell_type": "markdown",
      "metadata": {
        "id": "view-in-github",
        "colab_type": "text"
      },
      "source": [
        "<a href=\"https://colab.research.google.com/github/Chucho98/CompYProg2022g1157/blob/main/Fundamentos2_CyP.ipynb\" target=\"_parent\"><img src=\"https://colab.research.google.com/assets/colab-badge.svg\" alt=\"Open In Colab\"/></a>"
      ]
    },
    {
      "cell_type": "markdown",
      "metadata": {
        "id": "8IdbTyPRZupm"
      },
      "source": [
        "#4 de Noviembre 2021"
      ]
    },
    {
      "cell_type": "markdown",
      "metadata": {
        "id": "x_M-ahHoFbqQ"
      },
      "source": [
        "#Tipos de datos estructurados de Python\n",
        "\n",
        "1. Listas\n",
        "2. Tuplas\n",
        "3. Diccionarios\n",
        "4. Conjuntos (opcional)"
      ]
    },
    {
      "cell_type": "markdown",
      "metadata": {
        "id": "WKM879siFueO"
      },
      "source": [
        "#Listas \n",
        "\n",
        "- Tipo de dato que agrupa variables o valores\n",
        "- Estructura secuencial (undexados empezando por 0)\n",
        "- Se declara de dos formas\n",
        "    - usando [ ]\n",
        "    - usando list( )\n",
        "- Puede contener tipos de datos diversos (En otros lenguajes de programación eso no es posible de forma directa)\n",
        "- Los elementos internos se seleccionan con [ ]\n",
        "- Soporta slicing\n",
        "- Son mutables"
      ]
    },
    {
      "cell_type": "code",
      "metadata": {
        "colab": {
          "base_uri": "https://localhost:8080/"
        },
        "id": "ohvkFU_tFXEY",
        "outputId": "f83035cb-86bb-42ec-fa31-3c43c258eae0"
      },
      "source": [
        "numeros = [10, 5, 2, 3, 1]\n",
        "print(numeros)\n",
        "\n",
        "numeros2 = list()\n",
        "numeros2.append(10)\n",
        "numeros2.append(5)\n",
        "numeros2.append(3)\n",
        "numeros2.append(2)\n",
        "numeros2.append(1)\n",
        "print(numeros2)\n",
        "numeros[2] = 20\n",
        "print(numeros)\n",
        "numeros[4] = 33"
      ],
      "execution_count": 11,
      "outputs": [
        {
          "output_type": "stream",
          "name": "stdout",
          "text": [
            "[10, 5, 2, 3, 1]\n",
            "[10, 5, 3, 2, 1]\n",
            "[10, 5, 20, 3, 1]\n"
          ]
        }
      ]
    },
    {
      "cell_type": "code",
      "metadata": {
        "colab": {
          "base_uri": "https://localhost:8080/"
        },
        "id": "87-0TXUGIjE4",
        "outputId": "a7b9b83e-7b57-4566-a6c1-5c0a71daeb1a"
      },
      "source": [
        "# Tipos diversos\n",
        "\n",
        "cosas = [12 , 2 , True , \"José\" , 1.57 , [\"pera\" , \"kiwi\" , \"uva\"]]\n",
        "print(cosas)\n",
        "print(cosas[1])\n",
        "print(cosas[4])\n",
        "print(cosas[5])\n",
        "print(cosas[5][1])\n",
        "print(cosas[3][1:3:])\n",
        "cosas[3] = cosas[3].upper()\n",
        "print(cosas)"
      ],
      "execution_count": 12,
      "outputs": [
        {
          "output_type": "stream",
          "name": "stdout",
          "text": [
            "[12, 2, True, 'José', 1.57, ['pera', 'kiwi', 'uva']]\n",
            "2\n",
            "1.57\n",
            "['pera', 'kiwi', 'uva']\n",
            "kiwi\n",
            "os\n",
            "[12, 2, True, 'JOSÉ', 1.57, ['pera', 'kiwi', 'uva']]\n"
          ]
        }
      ]
    },
    {
      "cell_type": "code",
      "metadata": {
        "colab": {
          "base_uri": "https://localhost:8080/"
        },
        "id": "0S5YzwwGMvL_",
        "outputId": "911dd06b-0461-4895-e8e0-a8a071825fc8"
      },
      "source": [
        "numeros = [1,2,3,4,5,6,7,8,9,10.11]\n",
        "print(numeros)\n",
        "# Slicing\n",
        "# 1.- 4 al 8??\n",
        "print(numeros[3:8])\n",
        "# 2.- [9,10]\n",
        "print(numeros[8:10:])\n",
        "print(numeros[-3:-1:])\n",
        "# 3.- Imprimir la lista en orden inverso [11,10,9,etc., 1]\n",
        "print(numeros[ : : -1])"
      ],
      "execution_count": 14,
      "outputs": [
        {
          "output_type": "stream",
          "name": "stdout",
          "text": [
            "[1, 2, 3, 4, 5, 6, 7, 8, 9, 10.11]\n",
            "[9, 10.11]\n",
            "[8, 9]\n"
          ]
        }
      ]
    },
    {
      "cell_type": "code",
      "metadata": {
        "colab": {
          "base_uri": "https://localhost:8080/"
        },
        "id": "iBfeBr1DQKFf",
        "outputId": "4e2027cc-b7e3-4cb5-9b7e-71741e65a76e"
      },
      "source": [
        "#Crear una lista con un generador\n",
        "numeros = [ x*3 for x in range(101)]\n",
        "print(numeros)"
      ],
      "execution_count": 16,
      "outputs": [
        {
          "output_type": "stream",
          "name": "stdout",
          "text": [
            "[0, 3, 6, 9, 12, 15, 18, 21, 24, 27, 30, 33, 36, 39, 42, 45, 48, 51, 54, 57, 60, 63, 66, 69, 72, 75, 78, 81, 84, 87, 90, 93, 96, 99, 102, 105, 108, 111, 114, 117, 120, 123, 126, 129, 132, 135, 138, 141, 144, 147, 150, 153, 156, 159, 162, 165, 168, 171, 174, 177, 180, 183, 186, 189, 192, 195, 198, 201, 204, 207, 210, 213, 216, 219, 222, 225, 228, 231, 234, 237, 240, 243, 246, 249, 252, 255, 258, 261, 264, 267, 270, 273, 276, 279, 282, 285, 288, 291, 294, 297, 300]\n"
          ]
        }
      ]
    },
    {
      "cell_type": "markdown",
      "metadata": {
        "id": "QR68kb0aQzwb"
      },
      "source": [
        "#Funcion range()\n",
        "tiene los mismos componentes que slicing\n",
        "ini, stop, incremento\n",
        "range(1, 101, 1)\n"
      ]
    },
    {
      "cell_type": "code",
      "metadata": {
        "colab": {
          "base_uri": "https://localhost:8080/"
        },
        "id": "7kHlTfrLRAsb",
        "outputId": "606fc9a6-1d24-48a4-d16e-a8f2913d4dfe"
      },
      "source": [
        "numeros = [ x for x in range(50, 101, 5)]\n",
        "print(numeros)"
      ],
      "execution_count": 15,
      "outputs": [
        {
          "output_type": "stream",
          "name": "stdout",
          "text": [
            "[50, 55, 60, 65, 70, 75, 80, 85, 90, 95, 100]\n"
          ]
        }
      ]
    },
    {
      "cell_type": "code",
      "metadata": {
        "colab": {
          "base_uri": "https://localhost:8080/"
        },
        "id": "Gqoqs5dQSj1t",
        "outputId": "b7fac06d-e787-4a5a-b041-574ec300a91b"
      },
      "source": [
        "numeros = [4,1,15,8,22,34,50]\n",
        "print(numeros)\n",
        "numeros.append(99)\n",
        "print(numeros)\n",
        "#Numeros.clear()\n",
        "numeros = []\n",
        "print(numeros)\n",
        "\n",
        "frutas = [\"uvas\" , \"Kiwi\" , \"manzana\" ]\n",
        "copia = frutas\n",
        "print( frutas )\n",
        "print( copia )\n",
        "frutas.append(\"Naranja\")\n",
        "print( frutas )\n",
        "print( copia )\n",
        "\n",
        "colores = [\"rojo\" , \"azul\" , \"blanco\"]\n",
        "copia2 = colores.copy()\n",
        "print(colores)\n",
        "print(copia2)\n",
        "colores.append(\"verde\")\n",
        "print(colores)\n",
        "print(copia2)\n",
        "\n",
        "print(\"Numero de veces que aparece el 15=\" , numeros.count(15))\n",
        "\n",
        "#Extend \n",
        "\n",
        "nombres = [\"Jose\" , \"Pedro\" , \"karina\"]\n",
        "otrosNombres = [\"Josue\",\"Diana\",\"Dalia\"]\n",
        "\n",
        "print(nombres)\n",
        "print(otrosNombres)\n",
        "nombres = nombres + otrosNombres\n",
        "print(nombres)\n",
        "print(otrosNombres)\n",
        "\n",
        "#Lo mismo con el método extend\n",
        "otrosNombres.extend([\"Jesús\",\"María\",\"José\"])\n",
        "print(otrosNombres)\n",
        "print(\"Jesús esta en la posición:\", otrosNombres.index(\"Jesús\"))\n",
        "otrosNombres.insert(4, \"Espiritu santo\")\n",
        "print(otrosNombres)\n",
        "\n",
        "#pop\n",
        "resultado = otrosNombres.pop() # almacena el ultimo resultado en resultado\n",
        "print(otrosNombres)\n",
        "print(resultado)"
      ],
      "execution_count": 31,
      "outputs": [
        {
          "output_type": "stream",
          "name": "stdout",
          "text": [
            "[4, 1, 15, 8, 22, 34, 50]\n",
            "[4, 1, 15, 8, 22, 34, 50, 99]\n",
            "[]\n",
            "['uvas', 'Kiwi', 'manzana']\n",
            "['uvas', 'Kiwi', 'manzana']\n",
            "['uvas', 'Kiwi', 'manzana', 'Naranja']\n",
            "['uvas', 'Kiwi', 'manzana', 'Naranja']\n",
            "['rojo', 'azul', 'blanco']\n",
            "['rojo', 'azul', 'blanco']\n",
            "['rojo', 'azul', 'blanco', 'verde']\n",
            "['rojo', 'azul', 'blanco']\n",
            "Numero de veces que aparece el 15= 0\n",
            "['Jose', 'Pedro', 'karina']\n",
            "['Josue', 'Diana', 'Dalia']\n",
            "['Jose', 'Pedro', 'karina', 'Josue', 'Diana', 'Dalia']\n",
            "['Josue', 'Diana', 'Dalia']\n",
            "['Josue', 'Diana', 'Dalia', 'Jesús', 'María', 'José']\n",
            "Jesús esta en la posición: 3\n",
            "['Josue', 'Diana', 'Dalia', 'Jesús', 'Espiritu santo', 'María', 'José']\n",
            "['Josue', 'Diana', 'Dalia', 'Jesús', 'Espiritu santo', 'María']\n",
            "José\n"
          ]
        }
      ]
    }
  ]
}