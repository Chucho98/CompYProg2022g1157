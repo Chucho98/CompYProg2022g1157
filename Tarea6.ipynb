{
  "nbformat": 4,
  "nbformat_minor": 0,
  "metadata": {
    "colab": {
      "name": "Tarea6.ipynb",
      "provenance": [],
      "collapsed_sections": [],
      "authorship_tag": "ABX9TyMK2ak3qT/uN5D2vYLf0VAd",
      "include_colab_link": true
    },
    "kernelspec": {
      "name": "python3",
      "display_name": "Python 3"
    },
    "language_info": {
      "name": "python"
    }
  },
  "cells": [
    {
      "cell_type": "markdown",
      "metadata": {
        "id": "view-in-github",
        "colab_type": "text"
      },
      "source": [
        "<a href=\"https://colab.research.google.com/github/Chucho98/CompYProg2022g1157/blob/main/Tarea6.ipynb\" target=\"_parent\"><img src=\"https://colab.research.google.com/assets/colab-badge.svg\" alt=\"Open In Colab\"/></a>"
      ]
    },
    {
      "cell_type": "markdown",
      "metadata": {
        "id": "L02KozoOG55l"
      },
      "source": [
        "#Problema 2.1"
      ]
    },
    {
      "cell_type": "code",
      "metadata": {
        "colab": {
          "base_uri": "https://localhost:8080/"
        },
        "id": "Oa6snAeOG1zI",
        "outputId": "5b13cc98-f346-49ad-c809-ea1992747809"
      },
      "source": [
        "N=int(input(\"Dame el número de sonidos emitidos por el grillo en un minuto: \"))\n",
        "if N>0:\n",
        "    T=N/4+40\n",
        "    print(f\"La temperatura es: {T}\")\n",
        "print(\"Fin del programa\")"
      ],
      "execution_count": null,
      "outputs": [
        {
          "output_type": "stream",
          "name": "stdout",
          "text": [
            "Dame el número de sonidos emitidos por el grillo en un minuto: 123\n",
            "La temperatura es: 70.75\n",
            "Fin del programa\n"
          ]
        }
      ]
    },
    {
      "cell_type": "markdown",
      "metadata": {
        "id": "04j4YY_DJ-XB"
      },
      "source": [
        "#Problema 2.2"
      ]
    },
    {
      "cell_type": "code",
      "metadata": {
        "colab": {
          "base_uri": "https://localhost:8080/"
        },
        "id": "MVNlAf_pNY9q",
        "outputId": "cf8d127f-c719-4b5d-981c-76b985cf39b3"
      },
      "source": [
        "P=int(input(\"Dame un número entero: \"))\n",
        "Q=int(input(\"Dame otro número entero: \"))\n",
        "\n",
        "EXP = P**3+Q**4-2*P**2\n",
        "if EXP<680:\n",
        "    print(f\"Los números {P} y {Q} satisfacen la expreción\")\n",
        "print(\"Fin del programa\")"
      ],
      "execution_count": null,
      "outputs": [
        {
          "output_type": "stream",
          "name": "stdout",
          "text": [
            "Dame un número entero: 4\n",
            "Dame otro número entero: 2\n",
            "Los números 4 y 2 satisfacen la expreción\n",
            "Fin del programa\n"
          ]
        }
      ]
    },
    {
      "cell_type": "markdown",
      "metadata": {
        "id": "7WYATis5OsMf"
      },
      "source": [
        "#Problema 2.3\n"
      ]
    },
    {
      "cell_type": "code",
      "metadata": {
        "colab": {
          "base_uri": "https://localhost:8080/"
        },
        "id": "KcmfTNiuPvwu",
        "outputId": "572dffb7-7633-4c62-acd0-c8a3b2d3ac2b"
      },
      "source": [
        "A = float(input(\"Escribe un número: \"))\n",
        "B = float(input(\"Escribe un número: \"))\n",
        "C = float(input(\"Escribe un número: \"))\n",
        "\n",
        "DIS=B**2-4*A*C\n",
        "print(f\"DIS= {DIS}\")\n",
        "if DIS >=0:\n",
        "    X1=(-(B) + DIS**0.5)/(2*A)\n",
        "    X2=(-(B) - DIS**0.5)/(2*A)\n",
        "    print(f\"Las raíces reales son: {X1} y {X2}\")\n",
        "print(\"Fin del programa\")"
      ],
      "execution_count": null,
      "outputs": [
        {
          "output_type": "stream",
          "name": "stdout",
          "text": [
            "Escribe un número: 3\n",
            "Escribe un número: 9\n",
            "Escribe un número: 1.5\n",
            "DIS= 63.0\n",
            "Las raíces reales son: -0.17712434446770464 y -2.8228756555322954\n",
            "Fin del programa\n"
          ]
        }
      ]
    },
    {
      "cell_type": "markdown",
      "metadata": {
        "id": "_9C6NOtTY3iV"
      },
      "source": [
        "#Problema 2.4"
      ]
    },
    {
      "cell_type": "code",
      "metadata": {
        "colab": {
          "base_uri": "https://localhost:8080/"
        },
        "id": "oLT9LC7XTnIG",
        "outputId": "627947c6-f02c-443d-de84-aa1398eb5e8c"
      },
      "source": [
        "MAT = int(input(\"Escriba la matrícula del alumno:\"))\n",
        "CAL1 = float(input(\"Inserte la primera calificación: \"))\n",
        "CAL2 = float(input(\"Inserte la segunda calificación: \"))\n",
        "CAL3 = float(input(\"Inserte la tercera calificación: \"))\n",
        "CAL4 = float(input(\"Inserte la cuarta calificación: \"))\n",
        "CAL5 = float(input(\"Inserte la quinta calificación: \"))\n",
        "\n",
        "PRO=(CAL1+CAL2+CAL3+CAL4+CAL5)/5\n",
        "if PRO>=6:\n",
        "    print(f\"El alumno con matrícula: {MAT} tiene de promedio: {PRO} \\nAprobado\")\n",
        "else:\n",
        "    print(f\"El alumno con matrícula: {MAT} tiene de promedio: {PRO} \\nNo aprobado\")\n",
        "print(\"Fin del programa\")"
      ],
      "execution_count": null,
      "outputs": [
        {
          "output_type": "stream",
          "name": "stdout",
          "text": [
            "Escriba la matrícula del alumno:16650\n",
            "Inserte la primera calificación: 5\n",
            "Inserte la segunda calificación: 4.80\n",
            "Inserte la tercera calificación: 7\n",
            "Inserte la cuarta calificación: 6.30\n",
            "Inserte la quinta calificación: 5.90\n",
            "El alumno con matrícula: 16650 tiene de promedio: 5.8 \n",
            "No aprobado\n"
          ]
        }
      ]
    },
    {
      "cell_type": "markdown",
      "metadata": {
        "id": "1OA60TznbmpM"
      },
      "source": [
        "#Problema 2.5"
      ]
    },
    {
      "cell_type": "code",
      "metadata": {
        "colab": {
          "base_uri": "https://localhost:8080/"
        },
        "id": "81OsKCblbrDB",
        "outputId": "9584a26c-ad66-411a-e3de-9f0ea2963027"
      },
      "source": [
        "NUM=int(input(\"Ingrese un número entero: \"))\n",
        "if NUM>0:\n",
        "    print(\"Positivo\")\n",
        "elif NUM==0:\n",
        "    print(\"Nulo\")\n",
        "else:\n",
        "    print(\"Negativo\")\n",
        "\n",
        "print(\"FIn del programa\")"
      ],
      "execution_count": null,
      "outputs": [
        {
          "output_type": "stream",
          "name": "stdout",
          "text": [
            "Ingrese un número entero: -98\n",
            "Negativo\n",
            "FIn del programa\n"
          ]
        }
      ]
    },
    {
      "cell_type": "markdown",
      "metadata": {
        "id": "MZsQvc59czaK"
      },
      "source": [
        "#Problema 2.6"
      ]
    },
    {
      "cell_type": "code",
      "metadata": {
        "colab": {
          "base_uri": "https://localhost:8080/"
        },
        "id": "cuJb0HbRc1XM",
        "outputId": "578f0ff3-bf8b-4989-8af2-34b8b88b1f59"
      },
      "source": [
        "A=int(input(\"Ingrese un número entero: \"))\n",
        "if A==0:\n",
        "    print(\"Nulo\")\n",
        "else:\n",
        "    if (-1)**A>0:\n",
        "        print(\"Par\")\n",
        "    else:\n",
        "        print(\"Impar\")\n",
        "print(\"Fin del programa\")"
      ],
      "execution_count": null,
      "outputs": [
        {
          "output_type": "stream",
          "name": "stdout",
          "text": [
            "Ingrese un número entero: 12\n",
            "Par\n",
            "Fin del programa\n"
          ]
        }
      ]
    },
    {
      "cell_type": "markdown",
      "metadata": {
        "id": "uQjkPuW5ezi_"
      },
      "source": [
        "#Problema 2.7"
      ]
    },
    {
      "cell_type": "code",
      "metadata": {
        "colab": {
          "base_uri": "https://localhost:8080/"
        },
        "id": "QJ8zoJvte1qu",
        "outputId": "8e22ae21-9577-4b6a-c6ee-75b8e5adc5a9"
      },
      "source": [
        "A=int(input(\"Ingrese un número entero: \"))\n",
        "B=int(input(\"Ingrese un número entero diferente: \"))\n",
        "C=int(input(\"Ingrese otro número entero diferente: \"))\n",
        "\n",
        "if A<B:\n",
        "    if B<C:\n",
        "        print(\"Los números están en orden creciente\")\n",
        "    else:\n",
        "        print(\"Los números no están en orden creciente\")\n",
        "else:\n",
        "    print(\"Los números no están en orden creciente\")\n",
        "print(\"Fin del programa\")"
      ],
      "execution_count": null,
      "outputs": [
        {
          "output_type": "stream",
          "name": "stdout",
          "text": [
            "Ingrese un número entero: 55\n",
            "Ingrese un número entero diferente: 34\n",
            "Ingrese otro número entero diferente: 109\n",
            "Los números no están en orden creciente\n",
            "Fin del programa\n"
          ]
        }
      ]
    },
    {
      "cell_type": "markdown",
      "metadata": {
        "id": "jcyYF_I7gVaf"
      },
      "source": [
        "#Problema 2.8"
      ]
    },
    {
      "cell_type": "code",
      "metadata": {
        "colab": {
          "base_uri": "https://localhost:8080/"
        },
        "id": "dk8A6sxFgXcR",
        "outputId": "f948cb98-d583-46b7-bf0c-5203904c62f1"
      },
      "source": [
        "NUM=float(input(\"Ingrese el monto de la compra: \"))\n",
        "\n",
        "if NUM<500:\n",
        "    PAGAR=NUM\n",
        "else:\n",
        "    if NUM<=1000:\n",
        "        PAGAR=NUM-(NUM*0.05)\n",
        "    else:\n",
        "        if NUM<=7000:\n",
        "            PAGAR=NUM-(NUM*0.11)\n",
        "        else:\n",
        "            if NUM<=15000:\n",
        "                PAGAR=NUM-(NUM*0.18)\n",
        "            else:\n",
        "                PAGAR=NUM-(NUM*0.25)\n",
        "print(f\"Usted debe de pagar: {PAGAR}\")\n",
        "print(\"Fin del programa\")"
      ],
      "execution_count": null,
      "outputs": [
        {
          "output_type": "stream",
          "name": "stdout",
          "text": [
            "Ingrese el monto de la compra: 14200.50\n",
            "Usted debe de pagar: 11644.41\n",
            "Fin del programa\n"
          ]
        }
      ]
    },
    {
      "cell_type": "markdown",
      "metadata": {
        "id": "eqh4Z1bZkYyt"
      },
      "source": [
        "#Problema 2.9"
      ]
    },
    {
      "cell_type": "code",
      "metadata": {
        "colab": {
          "base_uri": "https://localhost:8080/"
        },
        "id": "E94M-nmVkdDs",
        "outputId": "50a8fc30-6f6e-40c3-9ee4-e46dc3a34eea"
      },
      "source": [
        "PREBAS=float(input(\"Ingrese el precio básico de producto: \"))\n",
        "\n",
        "if PREBAS>500:\n",
        "    IMP=20*0.30+(PREBAS-40)*0.50\n",
        "else:\n",
        "    if PREBAS>40:\n",
        "        IMP=20*0.30+(PREBAS-40)*0.40\n",
        "    else:\n",
        "        if PREBAS>20:\n",
        "            IMP=(PREBAS-20)*0.30\n",
        "        else:\n",
        "            IMP=0\n",
        "PRETOT=PREBAS+IMP\n",
        "print(f\"El precio básico es: {PREBAS} y el precio total es: {PRETOT}\")\n",
        "print(\"Fin del programa\")"
      ],
      "execution_count": null,
      "outputs": [
        {
          "output_type": "stream",
          "name": "stdout",
          "text": [
            "Ingrese el precio básico de producto: 128.40\n",
            "El precio básico es: 128.4 y el precio total es: 169.76000000000002\n",
            "Fin del programa\n"
          ]
        }
      ]
    },
    {
      "cell_type": "markdown",
      "metadata": {
        "id": "N1SxFdsFmt2Q"
      },
      "source": [
        "#Problema 2.10"
      ]
    },
    {
      "cell_type": "code",
      "metadata": {
        "colab": {
          "base_uri": "https://localhost:8080/"
        },
        "id": "4wtxyXWVmv9J",
        "outputId": "3ce5136b-a683-4c5a-dbe3-8675715f4abd"
      },
      "source": [
        "A=float(input(\"Escribe un número: \"))\n",
        "B=float(input(\"Escribe un número diferente: \"))\n",
        "C=float(input(\"Escribe otro número diferente: \"))\n",
        "\n",
        "if A>B:\n",
        "    if A>C:\n",
        "        print(f\"{A} es el mayor\")\n",
        "    else:\n",
        "        if A==C:\n",
        "            print(f\"{A} y {C} son los mayores\")\n",
        "        else:\n",
        "            print(f\"{C} es el mayor\")\n",
        "else:\n",
        "    if A==B:\n",
        "        if A>C:\n",
        "            print(f\"{A} y {B} son los mayores\")\n",
        "        else:\n",
        "            if A==C:\n",
        "                print(f\"{A}, {B} y {C} son iguales\")\n",
        "            else:\n",
        "                print(f\"{C} es el mayor\")\n",
        "    else:\n",
        "        if B>C:\n",
        "            print(f\"{B} es el mayor\")\n",
        "        else:\n",
        "            if B==C:\n",
        "                print(f\"{B} y {C} son los mayores\")\n",
        "            else:\n",
        "                print(f\"{C} es el mayor\")\n",
        "print(\"Fin del programa\")"
      ],
      "execution_count": null,
      "outputs": [
        {
          "output_type": "stream",
          "name": "stdout",
          "text": [
            "Escribe un número: 17\n",
            "Escribe un número diferente: 17\n",
            "Escribe otro número diferente: 17\n",
            "17.0, 17.0 y 17.0 son iguales\n",
            "Fin del programa\n"
          ]
        }
      ]
    },
    {
      "cell_type": "markdown",
      "metadata": {
        "id": "Iq0VyyWxStzv"
      },
      "source": [
        "#Problema 2.11"
      ]
    },
    {
      "cell_type": "code",
      "metadata": {
        "colab": {
          "base_uri": "https://localhost:8080/"
        },
        "id": "Jw68n8JVSwdm",
        "outputId": "1b36fca5-6ff0-4ba6-846e-ac8c032b345a"
      },
      "source": [
        "CLAVE=int(input(\"Escriba la clave de su zona geográfica: \"))\n",
        "NUMIN=int(input(\"Escriba la duración en minutos de la llamada: \"))\n",
        "\n",
        "if CLAVE==12:\n",
        "    COST=NUMIN*2\n",
        "elif CLAVE==15:\n",
        "    COST=NUMIN*2.2\n",
        "elif CLAVE==18:\n",
        "    COST=NUMIN*4.5\n",
        "elif CLAVE==19:\n",
        "    COST=NUMIN*3.5\n",
        "elif CLAVE==23 or 25:\n",
        "    COST=NUMIN*6\n",
        "elif CLAVE==29:\n",
        "    COST=NUMIN*5\n",
        "\n",
        "print(f\"Costo total de la llamada: {COST}\")\n",
        "print(\"Fin del programa\")"
      ],
      "execution_count": 3,
      "outputs": [
        {
          "output_type": "stream",
          "name": "stdout",
          "text": [
            "Escriba la clave de su zona geográfica: 25\n",
            "Escriba la duración en minutos de la llamada: 5\n",
            "Costo total de la llamada: 30\n",
            "Fin del programa\n"
          ]
        }
      ]
    },
    {
      "cell_type": "markdown",
      "metadata": {
        "id": "EX893yPsVcse"
      },
      "source": [
        "#Problema 2.12"
      ]
    },
    {
      "cell_type": "code",
      "metadata": {
        "colab": {
          "base_uri": "https://localhost:8080/"
        },
        "id": "TfThrHAmVcF7",
        "outputId": "8318647e-8afd-4624-bd7b-2b4c801bb3d9"
      },
      "source": [
        "SUE=float(input(\"Ingrese su sueldo: \"))\n",
        "CATE=int(input(\"Ingrese cual es su categoría (1-8): \"))\n",
        "HE=int(input(\"Ingrese cuantas horas extras trabajó: \"))\n",
        "\n",
        "if CATE==1:\n",
        "    PHE=30\n",
        "elif CATE==2:\n",
        "    PHE=38\n",
        "elif CATE==3:\n",
        "    PHE=50\n",
        "elif CATE==4:\n",
        "    PHE=70\n",
        "elif 5<=CATE<=8:\n",
        "    PHE=0\n",
        "\n",
        "if HE>30:\n",
        "    NSUE=SUE+30*PHE\n",
        "else:\n",
        "    NSUE=SUE+HE*PHE\n",
        "print(f\"Tu sueldo es: {NSUE}\")\n",
        "print(\"Fin del programa\")"
      ],
      "execution_count": 8,
      "outputs": [
        {
          "output_type": "stream",
          "name": "stdout",
          "text": [
            "Ingrese su sueldo: 8700\n",
            "Ingrese cual es su categoría (1-8): 6\n",
            "Ingrese cuantas horas extras trabajó: 21\n",
            "Tu sueldo es: 8700.0\n",
            "Fin del programa\n"
          ]
        }
      ]
    },
    {
      "cell_type": "markdown",
      "metadata": {
        "id": "xIb0N4UFYpcR"
      },
      "source": [
        "#Problema 2.13"
      ]
    },
    {
      "cell_type": "code",
      "metadata": {
        "colab": {
          "base_uri": "https://localhost:8080/"
        },
        "id": "Bbmlj-I5Yv-o",
        "outputId": "bf66e269-de64-45c9-cb2b-a055f46d825c"
      },
      "source": [
        "MAT=int(input(\"Ingresa tu matrícula: \"))\n",
        "CARR=str(input(\"Ingresa la carrera a la que quieres ingresar: \"))\n",
        "SEM=int(input(\"Ingresa el ultimo semestre que tienes aprobado: \"))\n",
        "PROM=float(input(\"Ingresa tu promedio: \"))\n",
        "\n",
        "if CARR==\"Econonomía\":\n",
        "    if SEM>=6 and PROM >=8.8:\n",
        "        print(f\"Alumno con matrícula: {MAT}, con solicitud para la carrera: {CARR}, resultado: Aceptado.\")\n",
        "elif CARR==\"Computación\":\n",
        "    if SEM>6 and PROM >8.5:\n",
        "        print(f\"Alumno con matrícula: {MAT}, con solicitud para la carrera: {CARR}, resultado: Aceptado.\")\n",
        "elif CARR==\"Contabilidad\" or \"Administración\":\n",
        "    if SEM>5 and PROM >8.5:\n",
        "        print(f\"Alumno con matrícula: {MAT}, con solicitud para la carrera: {CARR}, resultado: Aceptado.\")\n",
        "print(\"Fin del programa\")"
      ],
      "execution_count": 12,
      "outputs": [
        {
          "output_type": "stream",
          "name": "stdout",
          "text": [
            "Ingresa tu matrícula: 26000\n",
            "Ingresa la carrera a la que quieres ingresar: Administración\n",
            "Ingresa el ultimo semestre que tienes aprobado: 6\n",
            "Ingresa tu promedio: 9\n",
            "Alumno con matrícula: 26000, con solicitud para la carrera: Administración, resultado: Aceptado.\n",
            "Fin del programa\n"
          ]
        }
      ]
    }
  ]
}