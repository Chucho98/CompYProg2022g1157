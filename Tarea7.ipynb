{
  "nbformat": 4,
  "nbformat_minor": 0,
  "metadata": {
    "colab": {
      "name": "Tarea7.ipynb",
      "provenance": [],
      "authorship_tag": "ABX9TyNBwD39Jc9Z6+gU6n3anbtx",
      "include_colab_link": true
    },
    "kernelspec": {
      "name": "python3",
      "display_name": "Python 3"
    },
    "language_info": {
      "name": "python"
    }
  },
  "cells": [
    {
      "cell_type": "markdown",
      "metadata": {
        "id": "view-in-github",
        "colab_type": "text"
      },
      "source": [
        "<a href=\"https://colab.research.google.com/github/Chucho98/CompYProg2022g1157/blob/main/Tarea7.ipynb\" target=\"_parent\"><img src=\"https://colab.research.google.com/assets/colab-badge.svg\" alt=\"Open In Colab\"/></a>"
      ]
    },
    {
      "cell_type": "markdown",
      "metadata": {
        "id": "84nhJMBv_7IB"
      },
      "source": [
        "#Problema 3.1"
      ]
    },
    {
      "cell_type": "code",
      "metadata": {
        "colab": {
          "base_uri": "https://localhost:8080/"
        },
        "id": "ZW8LhbXR6iTm",
        "outputId": "73d20356-d735-447e-df52-0dac0809e861"
      },
      "source": [
        "SUMPAR=0\n",
        "SUMIMP=0\n",
        "CUEPAR=0\n",
        "i=1\n",
        "while i<=270:\n",
        "    NUM=i\n",
        "    if NUM!=0:\n",
        "        if ((-1)**NUM)>0:\n",
        "            SUMPAR=SUMPAR+NUM\n",
        "            CUEPAR=CUEPAR+1\n",
        "        else:\n",
        "            SUMIMP=SUMIMP+NUM\n",
        "    i=i+1\n",
        "PROPAR=SUMPAR/CUEPAR\n",
        "print(f\"La suma de los números impares es {SUMIMP}\")\n",
        "print(f\"El promedio de los números pares es {PROPAR}\")"
      ],
      "execution_count": 32,
      "outputs": [
        {
          "output_type": "stream",
          "name": "stdout",
          "text": [
            "La suma de los números impares es 18225\n",
            "El promedio de los números pares es 136.0\n"
          ]
        }
      ]
    },
    {
      "cell_type": "markdown",
      "metadata": {
        "id": "5xKiuKLK_-1y"
      },
      "source": [
        "#Problema 3.2"
      ]
    },
    {
      "cell_type": "code",
      "metadata": {
        "id": "ABaNG5QbAGhx"
      },
      "source": [
        "BAND='T'\n",
        "SUMSER=0\n",
        "i=2\n",
        "while i<=1800:\n",
        "    SUMSER=SUMSER+i\n",
        "    print(i)\n",
        "    if BAND=='T':\n",
        "        BAND='F'\n",
        "        i=i+3\n",
        "    else:\n",
        "        BAND='T'\n",
        "        i=i+2\n",
        "print(f\"La suma de la serie es: {SUMSER}\")"
      ],
      "execution_count": null,
      "outputs": []
    },
    {
      "cell_type": "markdown",
      "metadata": {
        "id": "XR4bfO8VCdV4"
      },
      "source": [
        "#Problema 3.3"
      ]
    },
    {
      "cell_type": "code",
      "metadata": {
        "colab": {
          "base_uri": "https://localhost:8080/"
        },
        "id": "ZnonSSo5CfLI",
        "outputId": "451a5fa6-ba63-4cf5-aeca-0bc7ee770e59"
      },
      "source": [
        "serie=0\n",
        "band='T'\n",
        "i=1\n",
        "n=int(input(\"Dame un número entero: \"))\n",
        "\n",
        "while i<=n:\n",
        "    if band=='T':\n",
        "        serie=serie-1/i\n",
        "        band='F'\n",
        "    else:\n",
        "        serie=serie-1/i\n",
        "    i=i+1\n",
        "print(f\"La serie es : {serie}\")"
      ],
      "execution_count": 34,
      "outputs": [
        {
          "output_type": "stream",
          "name": "stdout",
          "text": [
            "Dame un número entero: 5\n",
            "La serie es : -2.283333333333333\n"
          ]
        }
      ]
    },
    {
      "cell_type": "markdown",
      "metadata": {
        "id": "G0WaqzalExos"
      },
      "source": [
        "#Problema 3.4"
      ]
    },
    {
      "cell_type": "code",
      "metadata": {
        "colab": {
          "base_uri": "https://localhost:8080/"
        },
        "id": "ml1mm4dAEzty",
        "outputId": "fc890125-5d62-4f7d-ffa9-d665ece843ed"
      },
      "source": [
        "nom=0\n",
        "sue=float(input(\"Escribe tu sueldo: \"))\n",
        "\n",
        "while sue!=-1:\n",
        "    if sue<1000:\n",
        "        nsue=round(sue*1.15,2)\n",
        "    else:\n",
        "        nsue=round(sue*1.12,2)\n",
        "    nom=nom+nsue\n",
        "    print(f\"Tu sueldo es: {nsue}\")\n",
        "    sue=float(input(\"Escribe tu sueldo: \"))\n",
        "print(f\"El totalt de la nómina es: {nom}\")"
      ],
      "execution_count": 42,
      "outputs": [
        {
          "output_type": "stream",
          "name": "stdout",
          "text": [
            "Escribe tu sueldo: 855\n",
            "Tu sueldo es: 983.25\n",
            "Escribe tu sueldo: 760.32\n",
            "Tu sueldo es: 874.37\n",
            "Escribe tu sueldo: 1100.2\n",
            "Tu sueldo es: 1232.22\n",
            "Escribe tu sueldo: 614\n",
            "Tu sueldo es: 706.1\n",
            "Escribe tu sueldo: 2600\n",
            "Tu sueldo es: 2912.0\n",
            "Escribe tu sueldo: 817.5\n",
            "Tu sueldo es: 940.12\n",
            "Escribe tu sueldo: 1280.3\n",
            "Tu sueldo es: 1433.94\n",
            "Escribe tu sueldo: 687\n",
            "Tu sueldo es: 790.05\n",
            "Escribe tu sueldo: -1\n",
            "El totalt de la nómina es: 9872.05\n"
          ]
        }
      ]
    }
  ]
}