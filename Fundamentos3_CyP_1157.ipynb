{
  "nbformat": 4,
  "nbformat_minor": 0,
  "metadata": {
    "colab": {
      "name": "Fundamentos3_CyP_1157.ipynb",
      "provenance": [],
      "authorship_tag": "ABX9TyNG3Wxhp35rCZMU2GaCF9kj",
      "include_colab_link": true
    },
    "kernelspec": {
      "name": "python3",
      "display_name": "Python 3"
    },
    "language_info": {
      "name": "python"
    }
  },
  "cells": [
    {
      "cell_type": "markdown",
      "metadata": {
        "id": "view-in-github",
        "colab_type": "text"
      },
      "source": [
        "<a href=\"https://colab.research.google.com/github/Chucho98/CompYProg2022g1157/blob/main/Fundamentos3_CyP_1157.ipynb\" target=\"_parent\"><img src=\"https://colab.research.google.com/assets/colab-badge.svg\" alt=\"Open In Colab\"/></a>"
      ]
    },
    {
      "cell_type": "markdown",
      "metadata": {
        "id": "sxLl1CgYOIoP"
      },
      "source": [
        "#23 de Noviembre 2021"
      ]
    },
    {
      "cell_type": "markdown",
      "metadata": {
        "id": "F3yrFVHIFuYz"
      },
      "source": [
        "Repetición:\n",
        "Este tipo de estructura nos permite automatizar la ejecución repetitiva de código mientras ciertas condiciones se cumpla, tenemos 3 variantes de esta estructura en todos los lenguajes de programación:\n",
        "- Desde....hasta (estructura For)\n",
        "- Haz mientras (estructura While)\n",
        "- Haz y luego validas mientras (estructura Do-While)\n",
        "\n",
        "# For con Python\n",
        "\n",
        "```\n",
        "for j in range(10):\n",
        "    print(f\"Hola {j}\")\n",
        "```\n",
        "\n",
        "# For con Leng C y/o Java\n",
        "```\n",
        "for(int j=0 ; j<10 ; j=j+1){\n",
        "    printf(\"Hola %i  \\n\", j);\n",
        "}\n",
        "```\n",
        "\n",
        "En todos los lenguajes de programación existe un tipo especial de for, conocido como ***for-each***\n",
        "\n",
        "# For-each en Python\n",
        "```\n",
        "for color in colores:\n",
        "    print(f\"Este es el color {color}\")\n",
        "```"
      ]
    },
    {
      "cell_type": "code",
      "metadata": {
        "id": "M0xSWB2WFSF9",
        "colab": {
          "base_uri": "https://localhost:8080/"
        },
        "outputId": "c1ae7294-3774-4889-a30c-44b58ab01959"
      },
      "source": [
        "# Funcion range()\n",
        "# range(<INICIO>,<STOP>,<INCREMENTO>)\n",
        "X = range(0,10,2)\n",
        "print(X)\n",
        "\n",
        "\n",
        "for j in range(10): # range(0,10) --> 0,1,2,3,4,5,6,7,8,9\n",
        "    print(f\"Hola {j}\")\n",
        "\n",
        "print(\"-.-.-.-.-.\")\n",
        "for j in range(0,10,2): # range(0,10,2) --> 0,2,4,6,8\n",
        "    print(f\"Hola {j}\")\n",
        "\n",
        "frutas = [\"Uva\",\"aguacate\",\"pera\",\"manzana\",\"sandia\"]\n",
        "\n",
        "print(frutas[0])\n",
        "print(frutas[1])\n",
        "print(frutas[2])\n",
        "print(frutas[3])\n",
        "print(frutas[4])\n",
        "\n",
        "print(\"---Frutas---\")\n",
        "for index in range(5):\n",
        "    print(frutas[index])\n",
        "\n",
        "for i in range(5):\n",
        "    print(\"+++++\")\n",
        "\n"
      ],
      "execution_count": null,
      "outputs": [
        {
          "output_type": "stream",
          "name": "stdout",
          "text": [
            "range(0, 10, 2)\n",
            "Hola 0\n",
            "Hola 1\n",
            "Hola 2\n",
            "Hola 3\n",
            "Hola 4\n",
            "Hola 5\n",
            "Hola 6\n",
            "Hola 7\n",
            "Hola 8\n",
            "Hola 9\n",
            "-.-.-.-.-.\n",
            "Hola 0\n",
            "Hola 2\n",
            "Hola 4\n",
            "Hola 6\n",
            "Hola 8\n",
            "Uva\n",
            "aguacate\n",
            "pera\n",
            "manzana\n",
            "sandia\n",
            "---Frutas---\n",
            "Uva\n",
            "aguacate\n",
            "pera\n",
            "manzana\n",
            "sandia\n",
            "+++++\n",
            "+++++\n",
            "+++++\n",
            "+++++\n",
            "+++++\n"
          ]
        }
      ]
    },
    {
      "cell_type": "markdown",
      "metadata": {
        "id": "uPLmPZjiL8zi"
      },
      "source": [
        "#25 de <noviembre 2021"
      ]
    },
    {
      "cell_type": "code",
      "metadata": {
        "colab": {
          "base_uri": "https://localhost:8080/"
        },
        "id": "R1jVhDBnL_-v",
        "outputId": "5a9f0816-2c2f-450a-d0de-f68ebeb2c16a"
      },
      "source": [
        "for x in range(1,20,1):\n",
        "    print(x)\n",
        "print(\"Fin del programa\")\n",
        "\n",
        "for x in range(19,0,-1):\n",
        "    print(x)\n",
        "print(\"Fin del programa\")"
      ],
      "execution_count": null,
      "outputs": [
        {
          "output_type": "stream",
          "name": "stdout",
          "text": [
            "1\n",
            "2\n",
            "3\n",
            "4\n",
            "5\n",
            "6\n",
            "7\n",
            "8\n",
            "9\n",
            "10\n",
            "11\n",
            "12\n",
            "13\n",
            "14\n",
            "15\n",
            "16\n",
            "17\n",
            "18\n",
            "19\n",
            "Fin del programa\n",
            "19\n",
            "18\n",
            "17\n",
            "16\n",
            "15\n",
            "14\n",
            "13\n",
            "12\n",
            "11\n",
            "10\n",
            "9\n",
            "8\n",
            "7\n",
            "6\n",
            "5\n",
            "4\n",
            "3\n",
            "2\n",
            "1\n",
            "Fin del programa\n"
          ]
        }
      ]
    },
    {
      "cell_type": "code",
      "metadata": {
        "colab": {
          "base_uri": "https://localhost:8080/"
        },
        "id": "btHQV-4yNv2a",
        "outputId": "c2e412a9-4e99-42d4-c446-36ed74aaedc8"
      },
      "source": [
        "#Ejemplo 3.3\n",
        "CUECER = 0\n",
        "NUM = 0\n",
        "N = int(input(\"Un valor valor númerico mayor que 1\"))\n",
        "for I in range(1,N+1,1):\n",
        "    N = int(input(\"Un valor númerico mayor que 1\"))\n",
        "    if N == 0:\n",
        "        CUECER += 1\n",
        "\n",
        "print(\"Cuecer=\", CUECER)"
      ],
      "execution_count": null,
      "outputs": [
        {
          "output_type": "stream",
          "name": "stdout",
          "text": [
            "Un valor valor númerico mayor que 14\n",
            "Un valor númerico mayor que 10\n",
            "Un valor númerico mayor que 10\n",
            "Un valor númerico mayor que 11\n",
            "Un valor númerico mayor que 11\n",
            "Cuecer= 2\n"
          ]
        }
      ]
    },
    {
      "cell_type": "code",
      "metadata": {
        "colab": {
          "base_uri": "https://localhost:8080/"
        },
        "id": "F7Rl2LbFRcmn",
        "outputId": "77f3eff8-8030-457c-b6fb-6ccfefcca4d9"
      },
      "source": [
        "for f in range( 1,11): \n",
        "    print(f\"7 x {f} = {7 * f}\")"
      ],
      "execution_count": null,
      "outputs": [
        {
          "output_type": "stream",
          "name": "stdout",
          "text": [
            "7 x 1 = 7\n",
            "7 x 2 = 14\n",
            "7 x 3 = 21\n",
            "7 x 4 = 28\n",
            "7 x 5 = 35\n",
            "7 x 6 = 42\n",
            "7 x 7 = 49\n",
            "7 x 8 = 56\n",
            "7 x 9 = 63\n",
            "7 x 10 = 70\n"
          ]
        }
      ]
    },
    {
      "cell_type": "code",
      "metadata": {
        "id": "DsogaqJfSHFS"
      },
      "source": [
        "N1 =int(input(\"Dame un numero entre 1 y 5: \"))\n",
        "N2 =int(input(\"Dame un numero entre 2 y 10: \"))\n"
      ],
      "execution_count": null,
      "outputs": []
    },
    {
      "cell_type": "code",
      "metadata": {
        "colab": {
          "base_uri": "https://localhost:8080/"
        },
        "id": "iC8H5Z-YTyov",
        "outputId": "b14ee07d-37b8-40fc-c91f-8a42fe20eb69"
      },
      "source": [
        "NUM1=int(input(\"dame un numero entre uno y cinco: \"))\n",
        "NUM2= int(input(f\"dame un numero entre {NUM1} y 10: \"))\n",
        "if 1<NUM1>5 or NUM1<NUM2>10:\n",
        "    print(\"escribe valores en los rangos\")\n",
        "\n",
        "for y in range(NUM1,NUM2+1,1):\n",
        "    for x in range(1,11,1):\n",
        "        print(y,\"x\",x,\"=\", y*x)\n",
        "    print(\"---------------\")"
      ],
      "execution_count": null,
      "outputs": [
        {
          "output_type": "stream",
          "name": "stdout",
          "text": [
            "dame un numero entre uno y cinco: 1\n",
            "dame un numero entre 1 y 10: 3\n",
            "1 x 1 = 1\n",
            "1 x 2 = 2\n",
            "1 x 3 = 3\n",
            "1 x 4 = 4\n",
            "1 x 5 = 5\n",
            "1 x 6 = 6\n",
            "1 x 7 = 7\n",
            "1 x 8 = 8\n",
            "1 x 9 = 9\n",
            "1 x 10 = 10\n",
            "---------------\n",
            "2 x 1 = 2\n",
            "2 x 2 = 4\n",
            "2 x 3 = 6\n",
            "2 x 4 = 8\n",
            "2 x 5 = 10\n",
            "2 x 6 = 12\n",
            "2 x 7 = 14\n",
            "2 x 8 = 16\n",
            "2 x 9 = 18\n",
            "2 x 10 = 20\n",
            "---------------\n",
            "3 x 1 = 3\n",
            "3 x 2 = 6\n",
            "3 x 3 = 9\n",
            "3 x 4 = 12\n",
            "3 x 5 = 15\n",
            "3 x 6 = 18\n",
            "3 x 7 = 21\n",
            "3 x 8 = 24\n",
            "3 x 9 = 27\n",
            "3 x 10 = 30\n",
            "---------------\n"
          ]
        }
      ]
    },
    {
      "cell_type": "code",
      "metadata": {
        "colab": {
          "base_uri": "https://localhost:8080/"
        },
        "id": "HcKtFWkZVaqj",
        "outputId": "a6c1cc60-11bb-4055-d93e-a41b5945c493"
      },
      "source": [
        "N1 = int(input(\"Dame un número entre 1 y 5: \"))\n",
        "if N1 > 0 and N1 <= 5:\n",
        "    N2 = int(input(f\"Dame un número entre {N1} y 10: \"))\n",
        "    if N2 >= N1 and N2 <=10:\n",
        "        for i in range(N1, N2+1):\n",
        "            for j in range(1,11):\n",
        "                print(f\"{i} x {j} = \", i*j)\n",
        "            print(\"-----------------\")\n",
        "    else:\n",
        "        print(f\"Valor fuera de rango {N1}-10\")\n",
        "else: \n",
        "    print(\"Valor fuera de rango 1-5\")"
      ],
      "execution_count": null,
      "outputs": [
        {
          "output_type": "stream",
          "name": "stdout",
          "text": [
            "Dame un número entre 1 y 5: 2\n",
            "Dame un número entre 2 y 10: 11\n",
            "Valor fuera de rango 2-10\n"
          ]
        }
      ]
    },
    {
      "cell_type": "code",
      "metadata": {
        "colab": {
          "base_uri": "https://localhost:8080/"
        },
        "id": "YLjgUtaVXHxN",
        "outputId": "5ea9dfcc-a24d-4cbb-c62b-7c522d8a5056"
      },
      "source": [
        "# Generadores de listas \n",
        "numeros = [0,0,0,0,0]\n",
        "print(numeros)\n",
        "numeros=[0 for x in range(5)]\n",
        "print(numeros)\n",
        "#Empleando la variable de control x para el valor inicial\n",
        "numeros = [x for x in range(5)]\n",
        "print(numeros)\n",
        "#[10,20,30,40,50,60,70,80,90,100]\n",
        "numeros=[(x+1)*10 for x in range(10)]\n",
        "print(numeros)\n",
        "print(\".-.-.\")\n",
        "numeros = [x for x in range(10,101,10)]\n",
        "print(numeros)\n",
        "print(\".-.-.\")\n",
        "numeros = [x*10 for x in range(1,11)]\n",
        "print(numeros)"
      ],
      "execution_count": null,
      "outputs": [
        {
          "output_type": "stream",
          "name": "stdout",
          "text": [
            "[0, 0, 0, 0, 0]\n",
            "[0, 0, 0, 0, 0]\n",
            "[0, 1, 2, 3, 4]\n",
            "[10, 20, 30, 40, 50, 60, 70, 80, 90, 100]\n",
            ".-.-.\n",
            "[10, 20, 30, 40, 50, 60, 70, 80, 90, 100]\n",
            ".-.-.\n",
            "[10, 20, 30, 40, 50, 60, 70, 80, 90, 100]\n"
          ]
        }
      ]
    },
    {
      "cell_type": "code",
      "metadata": {
        "colab": {
          "base_uri": "https://localhost:8080/"
        },
        "id": "VaIn1KpdbBlm",
        "outputId": "01e87678-033d-45cb-87d9-573b02694d5d"
      },
      "source": [
        "#ejercicio: calcular promedio de edades\n",
        "suma=0\n",
        "edades=[0 for x in range(5)]\n",
        "for x in range(5):\n",
        "    edades[x]=int(input(\"Dame una edad: \"))\n",
        "    suma=suma+edades[x]\n",
        "print(edades)\n",
        "print(\"promedio: \", suma/5)"
      ],
      "execution_count": null,
      "outputs": [
        {
          "output_type": "stream",
          "name": "stdout",
          "text": [
            "Dame una edad: 1\n",
            "Dame una edad: 2\n",
            "Dame una edad: 3\n",
            "Dame una edad: 4\n",
            "Dame una edad: 5\n",
            "[1, 2, 3, 4, 5]\n",
            "promedio:  3.0\n"
          ]
        }
      ]
    },
    {
      "cell_type": "code",
      "metadata": {
        "colab": {
          "base_uri": "https://localhost:8080/"
        },
        "id": "7CmblgA9b23m",
        "outputId": "c8230e72-1fc7-4057-e41d-3f0be494ad04"
      },
      "source": [
        "import random\n",
        "print(random.random())\n",
        "print(random.uniform(0,11))\n",
        "val= round(random.uniform(5,11),2)\n",
        "print(val)\n",
        "\n",
        "valores = [ round(random.uniform(0,11),2) for x in range(20)]\n",
        "print(valores)"
      ],
      "execution_count": null,
      "outputs": [
        {
          "output_type": "stream",
          "name": "stdout",
          "text": [
            "0.7461587294739468\n",
            "10.289276315940159\n",
            "10.28\n",
            "[10.51, 9.92, 5.12, 3.82, 4.53, 0.21, 5.75, 6.89, 0.43, 4.93, 8.1, 1.18, 5.06, 9.45, 4.61, 3.27, 6.27, 4.13, 7.93, 9.74]\n"
          ]
        }
      ]
    },
    {
      "cell_type": "markdown",
      "metadata": {
        "id": "HwtGqxkMQPpq"
      },
      "source": [
        "#30 de Noviembre 2021"
      ]
    },
    {
      "cell_type": "markdown",
      "metadata": {
        "id": "pHLqfwog5-Zz"
      },
      "source": [
        "#Estructura de control de repetición haz-mientras.\n",
        "Una estructura de control haz-mientras nos permite ejecutar repetidamente mientras una condición se siga cumpliendo.\n",
        "\n",
        "#Sintaxis\n",
        "``` \n",
        "While <condición>:\n",
        "    <Bloque de sentencias a ejecutar repetidamente>\n",
        "<siguiente sentencia posterior a while>\n",
        "``` \n",
        "La diferencia principal en comparación con la estructura for es que con WHILE **No conoces** el número de ciclos a jecutar, en for si se conoce.\n",
        "\n",
        "Cómo ejemplo iniciemos con el siguiente enunciado.\n",
        "\n",
        "Hacer un programa que solicite un valor entero positivo y calcula  repetidamente la mitad y se reasigne a la misma variable. El ciclo se debe detener cuando el resultado sea menor qu 1.\n",
        "\n",
        "Mostrar el pantalla el resultado de cada cálculo y al final el número de iteracciones que realizó\n",
        "``` \n",
        "Introduce un numero entero positivo: 17\n",
        "8.5\n",
        "4.25\n",
        "2.12\n",
        "1.06\n",
        "0.53\n",
        "Total de interacciones= 5\n",
        "``` \n"
      ]
    },
    {
      "cell_type": "code",
      "metadata": {
        "colab": {
          "base_uri": "https://localhost:8080/"
        },
        "id": "1ojQbqwj7y0V",
        "outputId": "6cb3046f-900a-4431-f0ab-5a3645b71e15"
      },
      "source": [
        "valor=int(input(\"Introduce un número entero positivo: \"))\n",
        "contador=0\n",
        "if valor>0:\n",
        "    while valor>1.0:\n",
        "        valor=valor/2\n",
        "        print(round(valor,2))\n",
        "        contador+=1\n",
        "else:\n",
        "    print(\"El número es negativo, intenta de nuevo\")\n",
        "print(\"Total de interacciones= \", contador)"
      ],
      "execution_count": 2,
      "outputs": [
        {
          "output_type": "stream",
          "name": "stdout",
          "text": [
            "Introduce un número entero positivo: 4\n",
            "2.0\n",
            "1.0\n",
            "Total de interacciones=  2\n"
          ]
        }
      ]
    },
    {
      "cell_type": "code",
      "metadata": {
        "colab": {
          "base_uri": "https://localhost:8080/"
        },
        "id": "lf_YNvvH8oyq",
        "outputId": "a7008c83-cd77-4cd4-8dc2-85d164975cca"
      },
      "source": [
        "valor=int(input(\"Dame un valor entero: \"))\n",
        "\n",
        "while valor!=0:\n",
        "    print(valor)\n",
        "    valor=int(input(\"Dame un valor entero: \"))\n",
        "print(\"Fin del programa\")"
      ],
      "execution_count": 8,
      "outputs": [
        {
          "output_type": "stream",
          "name": "stdout",
          "text": [
            "Dame un valor entero: 2\n",
            "2\n",
            "Dame un valor entero: 0\n",
            "Fin del programa\n"
          ]
        }
      ]
    },
    {
      "cell_type": "code",
      "metadata": {
        "colab": {
          "base_uri": "https://localhost:8080/"
        },
        "id": "lpMbHxV99SEE",
        "outputId": "507a6dda-f999-41d1-bd74-0fa169f08035"
      },
      "source": [
        "valor=int(input(\"Dame un valor entero: \"))\n",
        "while valor!=0:\n",
        "    print(valor)\n",
        "    print(\"Otras cosas\")\n",
        "print(\"Fin del programa\")"
      ],
      "execution_count": 11,
      "outputs": [
        {
          "output_type": "stream",
          "name": "stdout",
          "text": [
            "Dame un valor entero: 0\n",
            "Fin del programa\n"
          ]
        }
      ]
    },
    {
      "cell_type": "markdown",
      "metadata": {
        "id": "vsC84HsIAAdx"
      },
      "source": [
        ""
      ]
    },
    {
      "cell_type": "code",
      "metadata": {
        "colab": {
          "base_uri": "https://localhost:8080/"
        },
        "id": "F9Y-iqUvABVR",
        "outputId": "56b895cc-7b7f-4f5a-bd39-42b265446ba0"
      },
      "source": [
        "n=int(input(\"Ingrese un número entero positivo: \"))\n",
        "\n",
        "if n>0:\n",
        "    print(\"Es correcto\")\n",
        "    for i in range(10):\n",
        "        print(n, \"por\", i+1, \"es igual a: \", n* (i+1))\n",
        "else:\n",
        "    print(\"El número ingresado no es correcto\")"
      ],
      "execution_count": 12,
      "outputs": [
        {
          "output_type": "stream",
          "name": "stdout",
          "text": [
            "Ingrese un número entero positivo: 2\n",
            "Es correcto\n",
            "2 por 1 es igual a:  2\n",
            "2 por 2 es igual a:  4\n",
            "2 por 3 es igual a:  6\n",
            "2 por 4 es igual a:  8\n",
            "2 por 5 es igual a:  10\n",
            "2 por 6 es igual a:  12\n",
            "2 por 7 es igual a:  14\n",
            "2 por 8 es igual a:  16\n",
            "2 por 9 es igual a:  18\n",
            "2 por 10 es igual a:  20\n"
          ]
        }
      ]
    },
    {
      "cell_type": "code",
      "metadata": {
        "colab": {
          "base_uri": "https://localhost:8080/"
        },
        "id": "qJeRhDPKCENC",
        "outputId": "75472d31-6be9-47dc-9c38-26098cf2f3bc"
      },
      "source": [
        "comprobar= True\n",
        "\n",
        "while comprobar==True:\n",
        "\n",
        "    n=int(input(\"Ingrese un número entero positivo: \"))\n",
        "\n",
        "    if n>0:\n",
        "        i=1 #Se inicializa el valor en 1\n",
        "        while i<11:\n",
        "            print(n, \"por\", i, \"es igual a:\", n*i)\n",
        "            i+=1 \n",
        "            comprobar=False\n",
        "    else:\n",
        "        print(\"El número ingresado no es correcto\")"
      ],
      "execution_count": 29,
      "outputs": [
        {
          "output_type": "stream",
          "name": "stdout",
          "text": [
            "Ingrese un número entero positivo: 7\n",
            "7 por 1 es igual a: 7\n",
            "7 por 2 es igual a: 14\n",
            "7 por 3 es igual a: 21\n",
            "7 por 4 es igual a: 28\n",
            "7 por 5 es igual a: 35\n",
            "7 por 6 es igual a: 42\n",
            "7 por 7 es igual a: 49\n",
            "7 por 8 es igual a: 56\n",
            "7 por 9 es igual a: 63\n",
            "7 por 10 es igual a: 70\n"
          ]
        }
      ]
    },
    {
      "cell_type": "markdown",
      "metadata": {
        "id": "WymFLKuyKSj-"
      },
      "source": [
        "Escirbe un programa que al recibir como dato un número entero positivo N, calcle el resultado de la siguiente serie:\n",
        "\n",
        "1+(1/2)+(1/3)+(1/4)+...+(1/N)\n",
        "\n",
        "Si el usuario escribe un número incorrecto, el programa no se ejecuta. En cambio pregunta de nuevo por la información hasta que el dato ingresado sea correcto."
      ]
    },
    {
      "cell_type": "code",
      "metadata": {
        "colab": {
          "base_uri": "https://localhost:8080/"
        },
        "id": "E_08Rq9XKvdc",
        "outputId": "66c58e1c-c83a-421a-bd6d-75e035e265e8"
      },
      "source": [
        "n=int(input(\"Ingrese un número entero positivo: \"))\n",
        "\n",
        "if n>0:\n",
        "    resultado=0\n",
        "    for i in range(1,n+1):\n",
        "        resultado+=(1/i)\n",
        "        print(\"El resultado de la serie es: \", resultado)\n",
        "else:\n",
        "    print(\"El número no es correcto, intente de nuevo\")\n",
        "    "
      ],
      "execution_count": 32,
      "outputs": [
        {
          "output_type": "stream",
          "name": "stdout",
          "text": [
            "Ingrese un número entero positivo: 9\n",
            "El resultado de la serie es:  1.0\n",
            "El resultado de la serie es:  1.5\n",
            "El resultado de la serie es:  1.8333333333333333\n",
            "El resultado de la serie es:  2.083333333333333\n",
            "El resultado de la serie es:  2.283333333333333\n",
            "El resultado de la serie es:  2.4499999999999997\n",
            "El resultado de la serie es:  2.5928571428571425\n",
            "El resultado de la serie es:  2.7178571428571425\n",
            "El resultado de la serie es:  2.8289682539682537\n"
          ]
        }
      ]
    },
    {
      "cell_type": "code",
      "metadata": {
        "colab": {
          "base_uri": "https://localhost:8080/"
        },
        "id": "rSwuYE4UMZSL",
        "outputId": "09ab1415-6826-41fa-cfbc-c42677fcc3e7"
      },
      "source": [
        "comprobar=True\n",
        "while comprobar==True:\n",
        "    n=int(input(\"Ingrese un número entero positivo: \"))\n",
        "\n",
        "    if n>0:\n",
        "        comprobar=False\n",
        "        resultado=0\n",
        "        for i in range(1,n+1):\n",
        "            resultado+=(1/i)\n",
        "            print(\"El resultado de la serie es: \", resultado)\n",
        "    else:\n",
        "        print(\"El número no es correcto, intente de nuevo\")"
      ],
      "execution_count": 36,
      "outputs": [
        {
          "output_type": "stream",
          "name": "stdout",
          "text": [
            "Ingrese un número entero positivo: 3\n",
            "El resultado de la serie es:  1.0\n",
            "El resultado de la serie es:  1.5\n",
            "El resultado de la serie es:  1.8333333333333333\n"
          ]
        }
      ]
    }
  ]
}